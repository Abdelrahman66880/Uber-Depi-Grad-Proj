{
 "cells": [
  {
   "cell_type": "code",
   "execution_count": 0,
   "metadata": {
    "application/vnd.databricks.v1+cell": {
     "cellMetadata": {
      "byteLimit": 2048000,
      "rowLimit": 10000
     },
     "inputWidgets": {},
     "nuid": "32674822-5a98-4a8d-ae01-8cf3a5508fd3",
     "showTitle": false,
     "title": ""
    }
   },
   "outputs": [
    {
     "output_type": "execute_result",
     "data": {
      "text/plain": [
       "[FileInfo(path='dbfs:/mnt/landing/Location/', name='Location/', size=0, modificationTime=1728919981000),\n",
       " FileInfo(path='dbfs:/mnt/landing/Payment/', name='Payment/', size=0, modificationTime=1728919981000),\n",
       " FileInfo(path='dbfs:/mnt/landing/PaymentMethod/', name='PaymentMethod/', size=0, modificationTime=1728919971000),\n",
       " FileInfo(path='dbfs:/mnt/landing/PaymentStatus/', name='PaymentStatus/', size=0, modificationTime=1728919976000),\n",
       " FileInfo(path='dbfs:/mnt/landing/Request/', name='Request/', size=0, modificationTime=1728919978000),\n",
       " FileInfo(path='dbfs:/mnt/landing/Trip/', name='Trip/', size=0, modificationTime=1728919984000),\n",
       " FileInfo(path='dbfs:/mnt/landing/User/', name='User/', size=0, modificationTime=1728920560000),\n",
       " FileInfo(path='dbfs:/mnt/landing/VehicleMakes/', name='VehicleMakes/', size=0, modificationTime=1728919979000),\n",
       " FileInfo(path='dbfs:/mnt/landing/Vehicles/', name='Vehicles/', size=0, modificationTime=1728919978000)]"
      ]
     },
     "execution_count": 1,
     "metadata": {},
     "output_type": "execute_result"
    }
   ],
   "source": [
    "dbutils.fs.ls('mnt/landing/')"
   ]
  },
  {
   "cell_type": "code",
   "execution_count": 0,
   "metadata": {
    "application/vnd.databricks.v1+cell": {
     "cellMetadata": {
      "byteLimit": 2048000,
      "rowLimit": 10000
     },
     "inputWidgets": {},
     "nuid": "3b573651-8368-4d2a-a687-725c3b0beb18",
     "showTitle": false,
     "title": ""
    }
   },
   "outputs": [
    {
     "output_type": "execute_result",
     "data": {
      "text/plain": [
       "[FileInfo(path='dbfs:/mnt/bronze/Location/', name='Location/', size=0, modificationTime=1728928680000),\n",
       " FileInfo(path='dbfs:/mnt/bronze/Payment/', name='Payment/', size=0, modificationTime=1728928695000),\n",
       " FileInfo(path='dbfs:/mnt/bronze/PaymentMethod/', name='PaymentMethod/', size=0, modificationTime=1728928699000),\n",
       " FileInfo(path='dbfs:/mnt/bronze/PaymentStatus/', name='PaymentStatus/', size=0, modificationTime=1728928702000),\n",
       " FileInfo(path='dbfs:/mnt/bronze/Request/', name='Request/', size=0, modificationTime=1728928704000),\n",
       " FileInfo(path='dbfs:/mnt/bronze/Trip/', name='Trip/', size=0, modificationTime=1728928709000),\n",
       " FileInfo(path='dbfs:/mnt/bronze/User/', name='User/', size=0, modificationTime=1728928717000),\n",
       " FileInfo(path='dbfs:/mnt/bronze/VehicleMakes/', name='VehicleMakes/', size=0, modificationTime=1728928722000),\n",
       " FileInfo(path='dbfs:/mnt/bronze/Vehicles/', name='Vehicles/', size=0, modificationTime=1728928724000)]"
      ]
     },
     "execution_count": 2,
     "metadata": {},
     "output_type": "execute_result"
    }
   ],
   "source": [
    "dbutils.fs.ls('mnt/bronze/')"
   ]
  },
  {
   "cell_type": "code",
   "execution_count": 0,
   "metadata": {
    "application/vnd.databricks.v1+cell": {
     "cellMetadata": {
      "byteLimit": 2048000,
      "rowLimit": 10000
     },
     "inputWidgets": {},
     "nuid": "20dfdecd-2496-4756-ae65-dc5c1d49a054",
     "showTitle": false,
     "title": ""
    }
   },
   "outputs": [],
   "source": [
    "table_names = []\n",
    "for i in dbutils.fs.ls('mnt/landing/'):\n",
    "    table_names.append(i.name.split('/')[0])\n"
   ]
  },
  {
   "cell_type": "code",
   "execution_count": 0,
   "metadata": {
    "application/vnd.databricks.v1+cell": {
     "cellMetadata": {
      "byteLimit": 2048000,
      "rowLimit": 10000
     },
     "inputWidgets": {},
     "nuid": "d031c9e8-44ef-4c47-a39c-a7ef8fcd1783",
     "showTitle": false,
     "title": ""
    }
   },
   "outputs": [
    {
     "output_type": "execute_result",
     "data": {
      "text/plain": [
       "['Location',\n",
       " 'Payment',\n",
       " 'PaymentMethod',\n",
       " 'PaymentStatus',\n",
       " 'Request',\n",
       " 'Trip',\n",
       " 'User',\n",
       " 'VehicleMakes',\n",
       " 'Vehicles']"
      ]
     },
     "execution_count": 4,
     "metadata": {},
     "output_type": "execute_result"
    }
   ],
   "source": [
    "table_names"
   ]
  },
  {
   "cell_type": "code",
   "execution_count": 0,
   "metadata": {
    "application/vnd.databricks.v1+cell": {
     "cellMetadata": {
      "byteLimit": 2048000,
      "rowLimit": 10000
     },
     "inputWidgets": {},
     "nuid": "fcc3dda7-3a0a-45a3-8a80-3e61d710bcf0",
     "showTitle": false,
     "title": ""
    }
   },
   "outputs": [],
   "source": [
    "# Function to load CSV files into DataFrames\n",
    "def load_parquet_files(table_names):\n",
    "    \"\"\"\n",
    "    This function takes a list of CSV file names and loads each CSV into a Spark DataFrame.\n",
    "\n",
    "    Args:\n",
    "        file_names (list): List of CSV filenames to be loaded.\n",
    "        landing_location (str): Path where the CSV files are located.\n",
    "\n",
    "    Returns:\n",
    "        dict: A dictionary containing DataFrames where the key is the file name and the value is the DataFrame.\n",
    "    \"\"\"\n",
    "    # Create an empty dictionary to hold the DataFrames\n",
    "    dataframes = {}\n",
    "    # Loop over the filenames and load each CSV into a DataFrame\n",
    "    for file in table_names:\n",
    "        # Remove the \".csv\" extension and use it as the DataFrame key\n",
    "        df_name = file.split(\".parquet\")[0]\n",
    "        # Load the CSV into a DataFrame and store it in the dictionary\n",
    "        path = f\"/mnt/landing/{file}/{file}.parquet\"\n",
    "        dataframes[df_name] = spark.read.format('parquet').load(path)\n",
    "        \n",
    "    return dataframes\n",
    "\n",
    "\n"
   ]
  },
  {
   "cell_type": "code",
   "execution_count": 0,
   "metadata": {
    "application/vnd.databricks.v1+cell": {
     "cellMetadata": {
      "byteLimit": 2048000,
      "rowLimit": 10000
     },
     "inputWidgets": {},
     "nuid": "6c34f457-58c0-4901-9b03-894c20d4c75d",
     "showTitle": false,
     "title": ""
    }
   },
   "outputs": [],
   "source": [
    "\n",
    "# Load the CSV files into DataFrames\n",
    "dataframes = load_parquet_files(table_names)\n",
    "\n",
    "# Loop over the dataframes dictionary to assign each DataFrame to a global variable\n",
    "for df_name, df in dataframes.items():\n",
    "    globals()[df_name] = df\n",
    "\n"
   ]
  },
  {
   "cell_type": "code",
   "execution_count": 0,
   "metadata": {
    "application/vnd.databricks.v1+cell": {
     "cellMetadata": {
      "byteLimit": 2048000,
      "rowLimit": 10000
     },
     "inputWidgets": {},
     "nuid": "b31aeda9-277d-42a8-8b6f-b4807ea60394",
     "showTitle": false,
     "title": ""
    }
   },
   "outputs": [
    {
     "output_type": "stream",
     "name": "stdout",
     "output_type": "stream",
     "text": [
      "Showing first 5 rows of Location:\n+----------+------------+-----------+\n|LocationID|   Longitude|   Latitude|\n+----------+------------+-----------+\n|     76173|-73.99945068|40.72192383|\n|    567607|-73.77745056|40.64664841|\n|    498838|-73.95517731|40.76498795|\n|    138392|-73.99216461|40.72513962|\n|    532266|-73.94660187|40.77573395|\n+----------+------------+-----------+\nonly showing top 5 rows\n\nroot\n |-- LocationID: integer (nullable = true)\n |-- Longitude: decimal(12,8) (nullable = true)\n |-- Latitude: decimal(12,8) (nullable = true)\n\nShowing first 5 rows of Payment:\n+---------+---------------+---------------+\n|PaymentID|PaymentMethodID|PaymentStatusID|\n+---------+---------------+---------------+\n|        6|              6|              4|\n|        6|              6|              2|\n|        3|              3|              1|\n|        6|              6|              4|\n|        6|              6|              1|\n+---------+---------------+---------------+\nonly showing top 5 rows\n\nroot\n |-- PaymentID: integer (nullable = true)\n |-- PaymentMethodID: integer (nullable = true)\n |-- PaymentStatusID: integer (nullable = true)\n\nShowing first 5 rows of PaymentMethod:\n+---------------+-----------+\n|PaymentMethodID| MethodName|\n+---------------+-----------+\n|              5| Google Pay|\n|              1|  Apple Pay|\n|              6|     PayPal|\n|              3|Credit Card|\n|              2|       Cash|\n+---------------+-----------+\nonly showing top 5 rows\n\nroot\n |-- PaymentMethodID: integer (nullable = true)\n |-- MethodName: string (nullable = true)\n\nShowing first 5 rows of PaymentStatus:\n+---------------+----------+\n|PaymentStatusID|StatusName|\n+---------------+----------+\n|              2|    Failed|\n|              3|   Pending|\n|              1| Completed|\n|              4|  Refunded|\n+---------------+----------+\n\nroot\n |-- PaymentStatusID: integer (nullable = true)\n |-- StatusName: string (nullable = true)\n\nShowing first 5 rows of Request:\n+---------+-----------+----------------+-----------------+-------------------+-------------------+\n|RequestID|PassengerID|PickupLocationID|DropoffLocationID|        RequestTime|         AcceptTime|\n+---------+-----------+----------------+-----------------+-------------------+-------------------+\n|   199505|      97802|          421670|           314226|2015-01-10 21:21:00|2015-01-10 21:31:00|\n|   478073|     239773|          432416|           450013|2015-01-22 07:57:00|2015-01-22 08:00:00|\n|   447801|     224384|          562731|           567647|2015-01-04 00:27:00|2015-01-04 00:33:00|\n|    31320|      15601|          173187|           290727|2015-01-07 13:43:00|2015-01-07 13:44:00|\n|    92754|      45352|          435956|           501726|2015-01-25 17:10:00|2015-01-25 17:12:00|\n+---------+-----------+----------------+-----------------+-------------------+-------------------+\nonly showing top 5 rows\n\nroot\n |-- RequestID: integer (nullable = true)\n |-- PassengerID: integer (nullable = true)\n |-- PickupLocationID: integer (nullable = true)\n |-- DropoffLocationID: integer (nullable = true)\n |-- RequestTime: timestamp (nullable = true)\n |-- AcceptTime: timestamp (nullable = true)\n\nShowing first 5 rows of Trip:\n+------+---------+--------+---------+---------+-------------------+-------------------+------------+-------------+--------+---------+------+---------+-----------+--------------------+\n|TripID|RequestID|DriverID|VehicleID|PaymentID|      TripStartTime|        TripEndTime|TripDistance|driver_rating|BaseFare|ExtraFare|MtaTax|TipAmount|TollsAmount|ImprovementSurcharge|\n+------+---------+--------+---------+---------+-------------------+-------------------+------------+-------------+--------+---------+------+---------+-----------+--------------------+\n|     1|   369036|  784422|   363309|        6|2015-01-15 19:05:00|2015-01-15 19:23:00|        1.59|         NULL|   12.00|     1.00|  0.50|     3.25|       0.00|                0.30|\n|     2|   369031|  840769|   336402|        6|2015-01-10 20:33:00|2015-01-10 20:53:00|        3.30|         NULL|   14.50|     0.50|  0.50|     2.00|       0.00|                0.30|\n|     3|   369030|  784422|   287846|        3|2015-01-10 20:33:00|2015-01-10 20:43:00|        1.80|         NULL|    9.50|     0.50|  0.50|     0.00|       0.00|                0.30|\n|     4|   289268|  840769|   336402|        6|2015-01-10 20:33:00|2015-01-10 20:35:00|        0.50|         NULL|    3.50|     0.50|  0.50|     0.00|       0.00|                0.30|\n|     5|   391034|  840769|   336402|        6|2015-01-10 20:33:00|2015-01-10 20:52:00|        3.00|         NULL|   15.00|     0.50|  0.50|     0.00|       0.00|                0.30|\n+------+---------+--------+---------+---------+-------------------+-------------------+------------+-------------+--------+---------+------+---------+-----------+--------------------+\nonly showing top 5 rows\n\nroot\n |-- TripID: integer (nullable = true)\n |-- RequestID: integer (nullable = true)\n |-- DriverID: integer (nullable = true)\n |-- VehicleID: integer (nullable = true)\n |-- PaymentID: integer (nullable = true)\n |-- TripStartTime: timestamp (nullable = true)\n |-- TripEndTime: timestamp (nullable = true)\n |-- TripDistance: decimal(10,2) (nullable = true)\n |-- driver_rating: double (nullable = true)\n |-- BaseFare: decimal(10,2) (nullable = true)\n |-- ExtraFare: decimal(10,2) (nullable = true)\n |-- MtaTax: decimal(10,2) (nullable = true)\n |-- TipAmount: decimal(10,2) (nullable = true)\n |-- TollsAmount: decimal(10,2) (nullable = true)\n |-- ImprovementSurcharge: decimal(10,2) (nullable = true)\n\nShowing first 5 rows of User:\n+------+-----------------+--------------------+--------------+----------------+\n|UserID|         FullName|               Email|   PhoneNumber|DriverMeanRating|\n+------+-----------------+--------------------+--------------+----------------+\n|  4583|   Alexander Ruiz|  bbarry@example.com|(687) 331-4684|            NULL|\n|  4584|   Alexander Ruiz|sydneyfleming@exa...|(367) 990-5730|            NULL|\n|  4585|Alexander Salinas| tyler41@example.net|(678) 623-3713|            NULL|\n|  4586|Alexander Sanchez| james59@example.com|(740) 652-2668|            NULL|\n|  4587|Alexander Santana|qmitchell@example...|(995) 993-2936|            NULL|\n+------+-----------------+--------------------+--------------+----------------+\nonly showing top 5 rows\n\nroot\n |-- UserID: integer (nullable = true)\n |-- FullName: string (nullable = true)\n |-- Email: string (nullable = true)\n |-- PhoneNumber: string (nullable = true)\n |-- DriverMeanRating: double (nullable = true)\n\nShowing first 5 rows of VehicleMakes:\n+------+----------+\n|MakeID|  MakeName|\n+------+----------+\n|     8|    Nissan|\n|     3|      Ford|\n|    10|Volkswagen|\n|     5|   Hyundai|\n|     2| Chevrolet|\n+------+----------+\nonly showing top 5 rows\n\nroot\n |-- MakeID: integer (nullable = true)\n |-- MakeName: string (nullable = true)\n\nShowing first 5 rows of Vehicles:\n+---------+--------+------+--------+----+-----+------------+\n|VehicleID|DriverID|MakeID|   Model|Year|Color|LicensePlate|\n+---------+--------+------+--------+----+-----+------------+\n|        1|  768428|     1|3 Series|1990|Black|       056TZ|\n|        2|  753783|     1|3 Series|1990|Black|     1HA Y78|\n|        3|  775032|     1|3 Series|1990|Black|    239 5643|\n|        4|  866574|     1|3 Series|1990|Black|     4-C3474|\n|        5|  913414|     1|3 Series|1990|Black|     57W GP8|\n+---------+--------+------+--------+----+-----+------------+\nonly showing top 5 rows\n\nroot\n |-- VehicleID: integer (nullable = true)\n |-- DriverID: integer (nullable = true)\n |-- MakeID: integer (nullable = true)\n |-- Model: string (nullable = true)\n |-- Year: integer (nullable = true)\n |-- Color: string (nullable = true)\n |-- LicensePlate: string (nullable = true)\n\n"
     ]
    }
   ],
   "source": [
    "# Loop through each DataFrame in the dictionary and display its content\n",
    "for df_name, df in dataframes.items():\n",
    "    print(f\"Showing first 5 rows of {df_name}:\")\n",
    "    df.show(5)\n",
    "    df.printSchema()"
   ]
  },
  {
   "cell_type": "code",
   "execution_count": 0,
   "metadata": {
    "application/vnd.databricks.v1+cell": {
     "cellMetadata": {
      "byteLimit": 2048000,
      "rowLimit": 10000
     },
     "inputWidgets": {},
     "nuid": "b94d0cea-3e4e-466d-b844-cb1e53f3737c",
     "showTitle": false,
     "title": ""
    }
   },
   "outputs": [],
   "source": [
    "from pyspark.sql import *\n",
    "from pyspark.sql.functions import *\n",
    "def add_date_columns(dataframes):\n",
    "    \"\"\"\n",
    "    This function takes a dictionary of DataFrames and adds 'processing_date' and 'modification_date' columns\n",
    "    to each DataFrame.\n",
    "\n",
    "    Args:\n",
    "        dataframes (dict): A dictionary containing DataFrames.\n",
    "    \"\"\"\n",
    "    processing_date = date_trunc('second', current_timestamp())\n",
    "\n",
    "    for df_name, df in dataframes.items():\n",
    "        # Add 'processing_date' and 'modification_date' columns\n",
    "        #df = df.withcolumn(\"_pipeline_run_id\", lit(dbutils.widgets.get('_pipeline_run_id')))\n",
    "        df = df.withColumn(\"_processing_date\", processing_date) \\\n",
    "                .withColumn(\"_input_filename\", input_file_name()) \\\n",
    "                .withColumn(\"_input_file_modification_date\", col(\"_metadata.file_modification_time\"))\n",
    "        \n",
    "        # Update the DataFrame in the dictionary\n",
    "        dataframes[df_name] = df\n",
    "\n"
   ]
  },
  {
   "cell_type": "code",
   "execution_count": 0,
   "metadata": {
    "application/vnd.databricks.v1+cell": {
     "cellMetadata": {
      "byteLimit": 2048000,
      "rowLimit": 10000
     },
     "inputWidgets": {},
     "nuid": "caf26baf-eabe-4cb4-a930-ddeac7b090b6",
     "showTitle": false,
     "title": ""
    }
   },
   "outputs": [],
   "source": [
    "\n",
    "# Call the function to add date columns to all DataFrames\n",
    "add_date_columns(dataframes)\n",
    "# Loop over the dataframes dictionary to assign each DataFrame to a global variable\n",
    "for df_name, df in dataframes.items():\n",
    "    globals()[df_name] = df\n"
   ]
  },
  {
   "cell_type": "code",
   "execution_count": 0,
   "metadata": {
    "application/vnd.databricks.v1+cell": {
     "cellMetadata": {
      "byteLimit": 2048000,
      "rowLimit": 10000
     },
     "inputWidgets": {},
     "nuid": "6ef85925-dd35-418a-bdef-6e511707f917",
     "showTitle": false,
     "title": ""
    }
   },
   "outputs": [],
   "source": [
    "from delta.tables import DeltaTable\n",
    "\n",
    "def write_to_delta(dataframes):\n",
    "    \"\"\"\n",
    "    This function checks if each table exists in Delta format at the specified location. \n",
    "    If the table exists, it appends the data; otherwise, it creates a new Delta table.\n",
    "\n",
    "    Args:\n",
    "        dataframes (dict): Dictionary of DataFrames.\n",
    "        bronze_location (str): The base path where Delta tables will be stored.\n",
    "    \"\"\"\n",
    "    for df_name, df in dataframes.items():\n",
    "        delta_table_path = f\"/mnt/bronze/{df_name}/\"\n",
    "        # Check if the Delta table exists\n",
    "        if DeltaTable.isDeltaTable(spark, delta_table_path):\n",
    "            print(f\"Table {df_name} already exists, appending data.\")\n",
    "            df.write.mode(\"append\").format(\"delta\").save(delta_table_path)\n",
    "        else:\n",
    "            print(f\"Creating new table for {df_name}.\")\n",
    "            df.write.mode(\"overwrite\").format(\"delta\").save(delta_table_path)\n"
   ]
  },
  {
   "cell_type": "code",
   "execution_count": 0,
   "metadata": {
    "application/vnd.databricks.v1+cell": {
     "cellMetadata": {
      "byteLimit": 2048000,
      "rowLimit": 10000
     },
     "inputWidgets": {},
     "nuid": "1dd91807-7d55-4e56-9915-abeebcb8c21d",
     "showTitle": false,
     "title": ""
    }
   },
   "outputs": [
    {
     "output_type": "stream",
     "name": "stdout",
     "output_type": "stream",
     "text": [
      "Table Location already exists, appending data.\nTable Payment already exists, appending data.\nTable PaymentMethod already exists, appending data.\nTable PaymentStatus already exists, appending data.\nTable Request already exists, appending data.\nTable Trip already exists, appending data.\nTable User already exists, appending data.\nTable VehicleMakes already exists, appending data.\nTable Vehicles already exists, appending data.\n"
     ]
    }
   ],
   "source": [
    "write_to_delta(dataframes)\n"
   ]
  },
  {
   "cell_type": "code",
   "execution_count": 0,
   "metadata": {
    "application/vnd.databricks.v1+cell": {
     "cellMetadata": {
      "byteLimit": 2048000,
      "rowLimit": 10000
     },
     "inputWidgets": {},
     "nuid": "73e451c6-e90f-45d5-907d-eb61afe3bf14",
     "showTitle": false,
     "title": ""
    }
   },
   "outputs": [
    {
     "output_type": "stream",
     "name": "stdout",
     "output_type": "stream",
     "text": [
      "Creating external table: bronze.Location\nCreating external table: bronze.Payment\nCreating external table: bronze.PaymentMethod\nCreating external table: bronze.PaymentStatus\nCreating external table: bronze.Request\nCreating external table: bronze.Trip\nCreating external table: bronze.User\nCreating external table: bronze.VehicleMakes\nCreating external table: bronze.Vehicles\n"
     ]
    }
   ],
   "source": [
    "# After your write_to_delta function\n",
    "for file in table_names:\n",
    "    table_name = f\"bronze.{file.split('.parquet')[0]}\"\n",
    "    print(f\"Creating external table: {table_name}\")\n",
    "    # Creating schema and external table in Spark SQL\n",
    "    spark.sql(\"CREATE SCHEMA IF NOT EXISTS bronze\")\n",
    "    # Set the current database to 'bronze'\n",
    "    spark.sql(\"USE bronze\")\n",
    "    delta_table_path = f\"/mnt/bronze/{file.split('.parquet')[0]}/\"\n",
    "    spark.sql(f\"CREATE EXTERNAL TABLE IF NOT EXISTS {table_name} USING DELTA LOCATION '{delta_table_path}'\")\n",
    "    #spark.sql(f\"SELECT * FROM location_df_raw\").show()\n"
   ]
  },
  {
   "cell_type": "code",
   "execution_count": 0,
   "metadata": {
    "application/vnd.databricks.v1+cell": {
     "cellMetadata": {
      "byteLimit": 2048000,
      "rowLimit": 10000
     },
     "inputWidgets": {},
     "nuid": "9b917287-ac83-4576-ab93-cbca1b8fba2d",
     "showTitle": false,
     "title": ""
    }
   },
   "outputs": [
    {
     "output_type": "stream",
     "name": "stdout",
     "output_type": "stream",
     "text": [
      "+--------+-------------+-----------+\n|database|    tableName|isTemporary|\n+--------+-------------+-----------+\n|  bronze|     location|      false|\n|  bronze|      payment|      false|\n|  bronze|paymentmethod|      false|\n|  bronze|paymentstatus|      false|\n|  bronze|      request|      false|\n|  bronze|         trip|      false|\n|  bronze|         user|      false|\n|  bronze| vehiclemakes|      false|\n|  bronze|     vehicles|      false|\n+--------+-------------+-----------+\n\n"
     ]
    }
   ],
   "source": [
    "# Show all tables in the 'bronze' schema\n",
    "spark.sql(\"SHOW TABLES IN bronze\").show()\n"
   ]
  },
  {
   "cell_type": "code",
   "execution_count": 0,
   "metadata": {
    "application/vnd.databricks.v1+cell": {
     "cellMetadata": {
      "byteLimit": 2048000,
      "rowLimit": 10000
     },
     "inputWidgets": {},
     "nuid": "60755f57-bf9e-41aa-9ee3-37148fc4f641",
     "showTitle": false,
     "title": ""
    }
   },
   "outputs": [
    {
     "output_type": "stream",
     "name": "stdout",
     "output_type": "stream",
     "text": [
      "Current Schema:\n+----------------+\n|current_schema()|\n+----------------+\n|          bronze|\n+----------------+\n\nTables in bronze schema:\n+--------+-------------+-----------+\n|database|    tableName|isTemporary|\n+--------+-------------+-----------+\n|  bronze|     location|      false|\n|  bronze|      payment|      false|\n|  bronze|paymentmethod|      false|\n|  bronze|paymentstatus|      false|\n|  bronze|      request|      false|\n|  bronze|         trip|      false|\n|  bronze|         user|      false|\n|  bronze| vehiclemakes|      false|\n|  bronze|     vehicles|      false|\n+--------+-------------+-----------+\n\n+----------+------------+-----------+-------------------+--------------------+-----------------------------+\n|LocationID|   Longitude|   Latitude|   _processing_date|     _input_filename|_input_file_modification_date|\n+----------+------------+-----------+-------------------+--------------------+-----------------------------+\n|     76173|-73.99945068|40.72192383|2024-10-14 17:58:01|dbfs:/mnt/landing...|          2024-10-14 15:47:38|\n+----------+------------+-----------+-------------------+--------------------+-----------------------------+\n\n+---------+---------------+---------------+-------------------+--------------------+-----------------------------+\n|PaymentID|PaymentMethodID|PaymentStatusID|   _processing_date|     _input_filename|_input_file_modification_date|\n+---------+---------------+---------------+-------------------+--------------------+-----------------------------+\n|        6|              6|              4|2024-10-14 17:58:15|dbfs:/mnt/landing...|          2024-10-14 15:44:24|\n+---------+---------------+---------------+-------------------+--------------------+-----------------------------+\n\n"
     ]
    }
   ],
   "source": [
    "\n",
    "# Verify the current schema\n",
    "print(\"Current Schema:\")\n",
    "spark.sql(\"SELECT current_database()\").show()\n",
    "\n",
    "# List all tables in the bronze schema\n",
    "print(\"Tables in bronze schema:\")\n",
    "spark.sql(\"SHOW TABLES IN bronze\").show()\n",
    "spark.sql(\"SELECT * FROM bronze.location LIMIT 1\").show()\n",
    "spark.sql(\"SELECT * FROM bronze.payment LIMIT 1\").show()\n",
    "\n",
    "\n",
    "\n"
   ]
  },
  {
   "cell_type": "code",
   "execution_count": 0,
   "metadata": {
    "application/vnd.databricks.v1+cell": {
     "cellMetadata": {
      "byteLimit": 2048000,
      "rowLimit": 10000
     },
     "inputWidgets": {},
     "nuid": "d57f2a36-ac6d-4500-8e03-d36efa4d20de",
     "showTitle": false,
     "title": ""
    }
   },
   "outputs": [
    {
     "output_type": "stream",
     "name": "stdout",
     "output_type": "stream",
     "text": [
      "+-------------------+-------+\n|   _processing_date|    cnt|\n+-------------------+-------+\n|2024-10-14 17:58:01|1148663|\n|2024-10-14 18:20:42|1148663|\n|2024-10-15 00:11:46|1148663|\n+-------------------+-------+\n\n"
     ]
    }
   ],
   "source": [
    "spark.sql(\"SELECT _processing_date, count(*) cnt FROM bronze.location GROUP BY _processing_date\").show()"
   ]
  },
  {
   "cell_type": "code",
   "execution_count": 0,
   "metadata": {
    "application/vnd.databricks.v1+cell": {
     "cellMetadata": {
      "byteLimit": 2048000,
      "rowLimit": 10000
     },
     "inputWidgets": {},
     "nuid": "7289391a-2090-46c6-a147-12b9d80c5972",
     "showTitle": false,
     "title": ""
    }
   },
   "outputs": [
    {
     "output_type": "stream",
     "name": "stdout",
     "output_type": "stream",
     "text": [
      "+----------+------------+-----------+-------------------+--------------------+-----------------------------+\n|LocationID|   Longitude|   Latitude|   _processing_date|     _input_filename|_input_file_modification_date|\n+----------+------------+-----------+-------------------+--------------------+-----------------------------+\n|     76173|-73.99945068|40.72192383|2024-10-14 17:58:01|dbfs:/mnt/landing...|          2024-10-14 15:47:38|\n|    567607|-73.77745056|40.64664841|2024-10-14 17:58:01|dbfs:/mnt/landing...|          2024-10-14 15:47:38|\n|    498838|-73.95517731|40.76498795|2024-10-14 17:58:01|dbfs:/mnt/landing...|          2024-10-14 15:47:38|\n|    138392|-73.99216461|40.72513962|2024-10-14 17:58:01|dbfs:/mnt/landing...|          2024-10-14 15:47:38|\n|    532266|-73.94660187|40.77573395|2024-10-14 17:58:01|dbfs:/mnt/landing...|          2024-10-14 15:47:38|\n|    144884|-73.99170685|40.76995850|2024-10-14 17:58:01|dbfs:/mnt/landing...|          2024-10-14 15:47:38|\n|     60322|-74.00185394|40.71962357|2024-10-14 17:58:01|dbfs:/mnt/landing...|          2024-10-14 15:47:38|\n|    183905|-73.98905182|40.75791168|2024-10-14 17:58:01|dbfs:/mnt/landing...|          2024-10-14 15:47:38|\n|    474267|-73.95960236|40.77397156|2024-10-14 17:58:01|dbfs:/mnt/landing...|          2024-10-14 15:47:38|\n|     48725|-74.00360870|40.72516632|2024-10-14 17:58:01|dbfs:/mnt/landing...|          2024-10-14 15:47:38|\n|    131712|-73.99272919|40.76867676|2024-10-14 17:58:01|dbfs:/mnt/landing...|          2024-10-14 15:47:38|\n|    131679|-73.99272919|40.73368835|2024-10-14 17:58:01|dbfs:/mnt/landing...|          2024-10-14 15:47:38|\n|    528027|-73.94848633|40.78642273|2024-10-14 17:58:01|dbfs:/mnt/landing...|          2024-10-14 15:47:38|\n|    199157|-73.98799896|40.73763657|2024-10-14 17:58:01|dbfs:/mnt/landing...|          2024-10-14 15:47:38|\n|    173479|-73.98983002|40.74574661|2024-10-14 17:58:01|dbfs:/mnt/landing...|          2024-10-14 15:47:38|\n|    127005|-73.99319458|40.76365662|2024-10-14 17:58:01|dbfs:/mnt/landing...|          2024-10-14 15:47:38|\n|    249017|-73.98426056|40.77954483|2024-10-14 17:58:01|dbfs:/mnt/landing...|          2024-10-14 15:47:38|\n|    278182|-73.98220062|40.76637650|2024-10-14 17:58:01|dbfs:/mnt/landing...|          2024-10-14 15:47:38|\n|    507129|-73.95393372|40.76709366|2024-10-14 17:58:01|dbfs:/mnt/landing...|          2024-10-14 15:47:38|\n|     89657|-73.99737549|40.72490692|2024-10-14 17:58:01|dbfs:/mnt/landing...|          2024-10-14 15:47:38|\n+----------+------------+-----------+-------------------+--------------------+-----------------------------+\nonly showing top 20 rows\n\n"
     ]
    }
   ],
   "source": [
    "spark.sql(\"select * from bronze.location\").show()"
   ]
  },
  {
   "cell_type": "code",
   "execution_count": 0,
   "metadata": {
    "application/vnd.databricks.v1+cell": {
     "cellMetadata": {
      "byteLimit": 2048000,
      "rowLimit": 10000
     },
     "inputWidgets": {},
     "nuid": "16bf2a4d-6915-4e1e-ba9c-d4a08adba75d",
     "showTitle": false,
     "title": ""
    }
   },
   "outputs": [],
   "source": [
    "\n",
    "# Dictionary to store the DeltaTable objects\n",
    "delta_tables = {}\n",
    "\n",
    "for file in table_names:\n",
    "    file_name = file.split('.parquet')[0]  # Extract the file name (without .csv extension)\n",
    "    table_name = f\"bronze.{file_name}\"  # Define the table name in the bronze schema\n",
    "    # Store the DeltaTable object in the dictionary using the file name as the key\n",
    "    delta_tables[file_name] = DeltaTable.forName(spark, table_name)\n",
    "\n",
    "    # Vacuum the table if it has not been vacuumed in the last 30 days.\n",
    "    if delta_tables[file_name].history(30).filter(\"operation = 'VACUUM START'\").count() == 0:\n",
    "        delta_tables[file_name].optimize()\n",
    "        delta_tables[file_name].vacuum()  # Default = 7 days\n",
    "\n"
   ]
  },
  {
   "cell_type": "code",
   "execution_count": 0,
   "metadata": {
    "application/vnd.databricks.v1+cell": {
     "cellMetadata": {
      "byteLimit": 2048000,
      "rowLimit": 10000
     },
     "inputWidgets": {},
     "nuid": "ffeb24b1-94cc-4e53-b24d-19ee089d4510",
     "showTitle": false,
     "title": ""
    }
   },
   "outputs": [
    {
     "output_type": "stream",
     "name": "stdout",
     "output_type": "stream",
     "text": [
      "+--------+\n|count(1)|\n+--------+\n| 3445989|\n+--------+\n\n"
     ]
    }
   ],
   "source": [
    "spark.sql(\"SELECT COUNT(*) FROM bronze.location\").show()\n"
   ]
  }
 ],
 "metadata": {
  "application/vnd.databricks.v1+notebook": {
   "dashboards": [],
   "environmentMetadata": null,
   "language": "python",
   "notebookMetadata": {
    "pythonIndentUnit": 4
   },
   "notebookName": "landing to bronze",
   "widgets": {}
  },
  "kernelspec": {
   "display_name": "Python 3",
   "language": "python",
   "name": "python3"
  },
  "language_info": {
   "codemirror_mode": {
    "name": "ipython",
    "version": 3
   },
   "file_extension": ".py",
   "mimetype": "text/x-python",
   "name": "python",
   "nbconvert_exporter": "python",
   "pygments_lexer": "ipython3",
   "version": "3.13.0"
  }
 },
 "nbformat": 4,
 "nbformat_minor": 0
}
