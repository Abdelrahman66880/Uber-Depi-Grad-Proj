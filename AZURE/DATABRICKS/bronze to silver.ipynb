{
 "cells": [
  {
   "cell_type": "code",
   "execution_count": 0,
   "metadata": {
    "application/vnd.databricks.v1+cell": {
     "cellMetadata": {
      "byteLimit": 2048000,
      "rowLimit": 10000
     },
     "inputWidgets": {},
     "nuid": "441517a2-2811-4b2e-867e-32a19eaf09e9",
     "showTitle": false,
     "title": ""
    }
   },
   "outputs": [],
   "source": [
    "\n",
    "from pyspark.sql.functions import *\n",
    "from pyspark.sql.types import *\n",
    "from delta import *"
   ]
  },
  {
   "cell_type": "code",
   "execution_count": 0,
   "metadata": {
    "application/vnd.databricks.v1+cell": {
     "cellMetadata": {
      "byteLimit": 2048000,
      "rowLimit": 10000
     },
     "inputWidgets": {},
     "nuid": "960fc8ef-32a3-47cc-8b36-38199fcdfe0a",
     "showTitle": false,
     "title": ""
    }
   },
   "outputs": [
    {
     "output_type": "stream",
     "name": "stdout",
     "output_type": "stream",
     "text": [
      "+------+-------------------+--------------------+--------------+----------------+-------------------+--------------------+-----------------------------+\n|UserID|           FullName|               Email|   PhoneNumber|DriverMeanRating|   _processing_date|     _input_filename|_input_file_modification_date|\n+------+-------------------+--------------------+--------------+----------------+-------------------+--------------------+-----------------------------+\n|  4583|     Alexander Ruiz|  bbarry@example.com|(687) 331-4684|            NULL|2024-10-15 00:12:16|dbfs:/mnt/landing...|          2024-10-14 15:48:30|\n|  4584|     Alexander Ruiz|sydneyfleming@exa...|(367) 990-5730|            NULL|2024-10-15 00:12:16|dbfs:/mnt/landing...|          2024-10-14 15:48:30|\n|  4585|  Alexander Salinas| tyler41@example.net|(678) 623-3713|            NULL|2024-10-15 00:12:16|dbfs:/mnt/landing...|          2024-10-14 15:48:30|\n|  4586|  Alexander Sanchez| james59@example.com|(740) 652-2668|            NULL|2024-10-15 00:12:16|dbfs:/mnt/landing...|          2024-10-14 15:48:30|\n|  4587|  Alexander Santana|qmitchell@example...|(995) 993-2936|            NULL|2024-10-15 00:12:16|dbfs:/mnt/landing...|          2024-10-14 15:48:30|\n|  4588| Alexander Santiago| uholmes@example.net|(178) 962-7118|            NULL|2024-10-15 00:12:16|dbfs:/mnt/landing...|          2024-10-14 15:48:30|\n|  4589|   Alexander Santos|graylori@example.org|(790) 819-5717|            NULL|2024-10-15 00:12:16|dbfs:/mnt/landing...|          2024-10-14 15:48:30|\n|  4590|Alexander Schneider|  john04@example.com|(378) 191-4824|            NULL|2024-10-15 00:12:16|dbfs:/mnt/landing...|          2024-10-14 15:48:30|\n|  4591|Alexander Schroeder| nancy69@example.org|(936) 119-3083|            NULL|2024-10-15 00:12:16|dbfs:/mnt/landing...|          2024-10-14 15:48:30|\n|  4592|  Alexander Schultz|daviesjustin@exam...|(262) 348-5665|            NULL|2024-10-15 00:12:16|dbfs:/mnt/landing...|          2024-10-14 15:48:30|\n|  4593|    Alexander Scott|richard81@example...|(604) 621-7889|            NULL|2024-10-15 00:12:16|dbfs:/mnt/landing...|          2024-10-14 15:48:30|\n|  4594|   Alexander Sexton|robertsonangela@e...|(964) 551-4128|            NULL|2024-10-15 00:12:16|dbfs:/mnt/landing...|          2024-10-14 15:48:30|\n|  4595|  Alexander Shaffer| enewton@example.com|(165) 588-9647|            NULL|2024-10-15 00:12:16|dbfs:/mnt/landing...|          2024-10-14 15:48:30|\n|  4596|  Alexander Shaffer|kenneth59@example...|(131) 177-6987|            NULL|2024-10-15 00:12:16|dbfs:/mnt/landing...|          2024-10-14 15:48:30|\n|  4597|     Alexander Shah|kennethwood@examp...|(279) 862-1244|            NULL|2024-10-15 00:12:16|dbfs:/mnt/landing...|          2024-10-14 15:48:30|\n|  4598|     Alexander Shah|ruizlorraine@exam...|(312) 713-6227|            NULL|2024-10-15 00:12:16|dbfs:/mnt/landing...|          2024-10-14 15:48:30|\n|  4599|     Alexander Shaw|mooredebra@exampl...|(691) 616-4448|            NULL|2024-10-15 00:12:16|dbfs:/mnt/landing...|          2024-10-14 15:48:30|\n|  4600|     Alexander Shaw|powersjeffrey@exa...|(304) 361-1872|            NULL|2024-10-15 00:12:16|dbfs:/mnt/landing...|          2024-10-14 15:48:30|\n|  4601|     Alexander Shaw|robinsongabrielle...|(113) 247-7888|            NULL|2024-10-15 00:12:16|dbfs:/mnt/landing...|          2024-10-14 15:48:30|\n|  4602|     Alexander Shaw|sharonsalazar@exa...|(533) 660-4657|            NULL|2024-10-15 00:12:16|dbfs:/mnt/landing...|          2024-10-14 15:48:30|\n+------+-------------------+--------------------+--------------+----------------+-------------------+--------------------+-----------------------------+\nonly showing top 20 rows\n\n"
     ]
    }
   ],
   "source": [
    "# Get the list of tables in the specified schema\n",
    "tables = spark.sql(\"SHOW TABLES IN bronze\").collect()\n",
    "# Dictionary to store DataFrames\n",
    "dataframes = {}\n",
    "\n",
    "# Loop through each table in the schema\n",
    "for row in tables:\n",
    "    table_name = row['tableName']  # Get the table name\n",
    "    full_table_name = f\"bronze.{table_name}\"  # Construct the full table name\n",
    "    # Read the data and filter based on the current date\n",
    "    df = spark.read.table(full_table_name).filter(to_date(\"_processing_date\") == current_date())\n",
    "    # Store the DataFrame in the dictionary\n",
    "    dataframes[full_table_name.split('.')[1]] = df\n",
    "\n",
    "# Example: Show the first few rows of a specific DataFrame (e.g., user)\n",
    "if \"user\" in dataframes:\n",
    "    dataframes[\"user\"].show()\n",
    "\n"
   ]
  },
  {
   "cell_type": "markdown",
   "metadata": {
    "application/vnd.databricks.v1+cell": {
     "cellMetadata": {
      "byteLimit": 2048000,
      "rowLimit": 10000
     },
     "inputWidgets": {},
     "nuid": "bac7a1ac-5550-4da8-be7d-877a7d7c2f82",
     "showTitle": false,
     "title": ""
    }
   },
   "source": [
    "# Data Cleaning (Drop NULL Values)"
   ]
  },
  {
   "cell_type": "code",
   "execution_count": 0,
   "metadata": {
    "application/vnd.databricks.v1+cell": {
     "cellMetadata": {
      "byteLimit": 2048000,
      "rowLimit": 10000
     },
     "inputWidgets": {},
     "nuid": "6e04afbc-63cf-400b-92d9-01cc0e0ba8fe",
     "showTitle": false,
     "title": ""
    }
   },
   "outputs": [],
   "source": [
    "dataframes[\"user\"] = dataframes[\"user\"].drop(\"DriverMeanRating\")\n",
    "dataframes[\"trip\"] = dataframes[\"trip\"].drop(\"driver_rating\")"
   ]
  },
  {
   "cell_type": "code",
   "execution_count": 0,
   "metadata": {
    "application/vnd.databricks.v1+cell": {
     "cellMetadata": {
      "byteLimit": 2048000,
      "rowLimit": 10000
     },
     "inputWidgets": {},
     "nuid": "00af3a9c-df36-4e82-8f3f-0947ca968f14",
     "showTitle": false,
     "title": ""
    }
   },
   "outputs": [
    {
     "output_type": "stream",
     "name": "stdout",
     "output_type": "stream",
     "text": [
      "+------+-----------------+--------------------+--------------+-------------------+--------------------+-----------------------------+\n|UserID|         FullName|               Email|   PhoneNumber|   _processing_date|     _input_filename|_input_file_modification_date|\n+------+-----------------+--------------------+--------------+-------------------+--------------------+-----------------------------+\n|  4583|   Alexander Ruiz|  bbarry@example.com|(687) 331-4684|2024-10-15 00:12:16|dbfs:/mnt/landing...|          2024-10-14 15:48:30|\n|  4584|   Alexander Ruiz|sydneyfleming@exa...|(367) 990-5730|2024-10-15 00:12:16|dbfs:/mnt/landing...|          2024-10-14 15:48:30|\n|  4585|Alexander Salinas| tyler41@example.net|(678) 623-3713|2024-10-15 00:12:16|dbfs:/mnt/landing...|          2024-10-14 15:48:30|\n|  4586|Alexander Sanchez| james59@example.com|(740) 652-2668|2024-10-15 00:12:16|dbfs:/mnt/landing...|          2024-10-14 15:48:30|\n|  4587|Alexander Santana|qmitchell@example...|(995) 993-2936|2024-10-15 00:12:16|dbfs:/mnt/landing...|          2024-10-14 15:48:30|\n+------+-----------------+--------------------+--------------+-------------------+--------------------+-----------------------------+\nonly showing top 5 rows\n\n"
     ]
    }
   ],
   "source": [
    "dataframes[\"user\"].show(5)\n"
   ]
  },
  {
   "cell_type": "code",
   "execution_count": 0,
   "metadata": {
    "application/vnd.databricks.v1+cell": {
     "cellMetadata": {
      "byteLimit": 2048000,
      "rowLimit": 10000
     },
     "inputWidgets": {},
     "nuid": "b1b66ca3-3e64-4068-a0e6-cd427919c150",
     "showTitle": false,
     "title": ""
    }
   },
   "outputs": [
    {
     "output_type": "stream",
     "name": "stdout",
     "output_type": "stream",
     "text": [
      "+------+---------+--------+---------+---------+-------------------+-------------------+------------+--------+---------+------+---------+-----------+--------------------+-------------------+--------------------+-----------------------------+\n|TripID|RequestID|DriverID|VehicleID|PaymentID|      TripStartTime|        TripEndTime|TripDistance|BaseFare|ExtraFare|MtaTax|TipAmount|TollsAmount|ImprovementSurcharge|   _processing_date|     _input_filename|_input_file_modification_date|\n+------+---------+--------+---------+---------+-------------------+-------------------+------------+--------+---------+------+---------+-----------+--------------------+-------------------+--------------------+-----------------------------+\n|     1|   369036|  784422|   363309|        6|2015-01-15 19:05:00|2015-01-15 19:23:00|        1.59|   12.00|     1.00|  0.50|     3.25|       0.00|                0.30|2024-10-15 00:12:09|dbfs:/mnt/landing...|          2024-10-14 15:49:31|\n|     2|   369031|  840769|   336402|        6|2015-01-10 20:33:00|2015-01-10 20:53:00|        3.30|   14.50|     0.50|  0.50|     2.00|       0.00|                0.30|2024-10-15 00:12:09|dbfs:/mnt/landing...|          2024-10-14 15:49:31|\n|     3|   369030|  784422|   287846|        3|2015-01-10 20:33:00|2015-01-10 20:43:00|        1.80|    9.50|     0.50|  0.50|     0.00|       0.00|                0.30|2024-10-15 00:12:09|dbfs:/mnt/landing...|          2024-10-14 15:49:31|\n|     4|   289268|  840769|   336402|        6|2015-01-10 20:33:00|2015-01-10 20:35:00|        0.50|    3.50|     0.50|  0.50|     0.00|       0.00|                0.30|2024-10-15 00:12:09|dbfs:/mnt/landing...|          2024-10-14 15:49:31|\n|     5|   391034|  840769|   336402|        6|2015-01-10 20:33:00|2015-01-10 20:52:00|        3.00|   15.00|     0.50|  0.50|     0.00|       0.00|                0.30|2024-10-15 00:12:09|dbfs:/mnt/landing...|          2024-10-14 15:49:31|\n+------+---------+--------+---------+---------+-------------------+-------------------+------------+--------+---------+------+---------+-----------+--------------------+-------------------+--------------------+-----------------------------+\nonly showing top 5 rows\n\n"
     ]
    }
   ],
   "source": [
    "dataframes[\"trip\"].show(5)"
   ]
  },
  {
   "cell_type": "markdown",
   "metadata": {
    "application/vnd.databricks.v1+cell": {
     "cellMetadata": {
      "byteLimit": 2048000,
      "rowLimit": 10000
     },
     "inputWidgets": {},
     "nuid": "0f04d3c9-05e2-4ce4-b6dd-d90a215e10df",
     "showTitle": false,
     "title": ""
    }
   },
   "source": [
    "# Create a function to remove rows where the first column contains the substring \"---\"\n",
    "def remove_specific_rows(df, substring=\"---\"):\n",
    "    # Get the name of the first column dynamically\n",
    "    first_col = df.columns[0]\n",
    "    \n",
    "    # Filter rows where the first column does not contain the specified substring\n",
    "    df_filtered = df.filter(~df[first_col].contains(substring))\n",
    "    \n",
    "    return df_filtered\n",
    "\n",
    "# Loop through the list of DataFrames and remove rows with the specified substring\n",
    "df_list = [remove_specific_rows(df) for df in df_list]\n",
    "\n",
    "# Show results\n",
    "for i, df in enumerate(df_list):\n",
    "    globals()[df_names[i]] = df\n",
    "    \n"
   ]
  },
  {
   "cell_type": "code",
   "execution_count": 0,
   "metadata": {
    "application/vnd.databricks.v1+cell": {
     "cellMetadata": {
      "byteLimit": 2048000,
      "rowLimit": 10000
     },
     "inputWidgets": {},
     "nuid": "10a80b86-f0b2-4972-9c75-5cbcdd670ec2",
     "showTitle": false,
     "title": ""
    }
   },
   "outputs": [
    {
     "output_type": "stream",
     "name": "stdout",
     "output_type": "stream",
     "text": [
      "+------+---------------+--------------------+--------------+-------------------+--------------------+-----------------------------+\n|UserID|       FullName|               Email|   PhoneNumber|   _processing_date|     _input_filename|_input_file_modification_date|\n+------+---------------+--------------------+--------------+-------------------+--------------------+-----------------------------+\n|700001|   Aaron Abbott|angela67@example.com|(453) 832-3608|2024-10-15 00:12:16|dbfs:/mnt/landing...|          2024-10-14 15:48:30|\n|     1|   Aaron Acosta| vbishop@example.net|(677) 367-9557|2024-10-15 00:12:16|dbfs:/mnt/landing...|          2024-10-14 15:48:30|\n|700002|   Aaron Acosta|vanessa20@example...|(953) 599-6007|2024-10-15 00:12:16|dbfs:/mnt/landing...|          2024-10-14 15:48:30|\n|     2|    Aaron Adams| james82@example.com|(332) 224-7965|2024-10-15 00:12:16|dbfs:/mnt/landing...|          2024-10-14 15:48:30|\n|     3|    Aaron Adams|nicholas92@exampl...|(351) 943-8670|2024-10-15 00:12:16|dbfs:/mnt/landing...|          2024-10-14 15:48:30|\n|     4|    Aaron Adams|zjohnson@example.com|(324) 384-5822|2024-10-15 00:12:16|dbfs:/mnt/landing...|          2024-10-14 15:48:30|\n|700003|    Aaron Adams|angela64@example.com|(619) 154-2732|2024-10-15 00:12:16|dbfs:/mnt/landing...|          2024-10-14 15:48:30|\n|700004|    Aaron Adams|beckdaniel@exampl...|(987) 878-1073|2024-10-15 00:12:16|dbfs:/mnt/landing...|          2024-10-14 15:48:30|\n|700005|    Aaron Adams|  dbowen@example.net|(672) 995-6696|2024-10-15 00:12:16|dbfs:/mnt/landing...|          2024-10-14 15:48:30|\n|700006|    Aaron Adams| emily69@example.net|(217) 156-8782|2024-10-15 00:12:16|dbfs:/mnt/landing...|          2024-10-14 15:48:30|\n|700007|    Aaron Adams|jesseschwartz@exa...|(250) 242-4652|2024-10-15 00:12:16|dbfs:/mnt/landing...|          2024-10-14 15:48:30|\n|700008|    Aaron Adams|  jill51@example.org|(120) 200-5627|2024-10-15 00:12:16|dbfs:/mnt/landing...|          2024-10-14 15:48:30|\n|700009|   Aaron Adkins|   jchan@example.com|(959) 936-7702|2024-10-15 00:12:16|dbfs:/mnt/landing...|          2024-10-14 15:48:30|\n|     5|  Aaron Aguilar|anthony78@example...|(867) 762-3031|2024-10-15 00:12:16|dbfs:/mnt/landing...|          2024-10-14 15:48:30|\n|     6|  Aaron Aguilar|wilsonruben@examp...|(376) 707-8408|2024-10-15 00:12:16|dbfs:/mnt/landing...|          2024-10-14 15:48:30|\n|700010|  Aaron Aguilar|beverlyhale@examp...|(862) 346-3495|2024-10-15 00:12:16|dbfs:/mnt/landing...|          2024-10-14 15:48:30|\n|700011|  Aaron Aguilar|reyeselizabeth@ex...|(554) 632-2702|2024-10-15 00:12:16|dbfs:/mnt/landing...|          2024-10-14 15:48:30|\n|     7|  Aaron Aguirre|samantha45@exampl...|(147) 383-2497|2024-10-15 00:12:16|dbfs:/mnt/landing...|          2024-10-14 15:48:30|\n|700014|Aaron Alexander|mercadoerin@examp...|(527) 635-4032|2024-10-15 00:12:16|dbfs:/mnt/landing...|          2024-10-14 15:48:30|\n|     8|Aaron Alexander|   phall@example.org|(761) 557-5601|2024-10-15 00:12:16|dbfs:/mnt/landing...|          2024-10-14 15:48:30|\n|700012|Aaron Alexander|jasonhanna@exampl...|(868) 281-9704|2024-10-15 00:12:16|dbfs:/mnt/landing...|          2024-10-14 15:48:30|\n|700013|Aaron Alexander|marcus05@example.net|(565) 355-5202|2024-10-15 00:12:16|dbfs:/mnt/landing...|          2024-10-14 15:48:30|\n|700015|Aaron Alexander|sotojohn@example.com|(925) 698-5822|2024-10-15 00:12:16|dbfs:/mnt/landing...|          2024-10-14 15:48:30|\n|700017|      Aaron Ali|rodriguezjoshua@e...|(249) 237-9650|2024-10-15 00:12:16|dbfs:/mnt/landing...|          2024-10-14 15:48:30|\n|700016|      Aaron Ali|  adam93@example.com|(389) 321-8572|2024-10-15 00:12:16|dbfs:/mnt/landing...|          2024-10-14 15:48:30|\n|700018|      Aaron Ali| zhughes@example.com|(614) 514-6952|2024-10-15 00:12:16|dbfs:/mnt/landing...|          2024-10-14 15:48:30|\n|700021|    Aaron Allen| sarafox@example.org|(177) 717-7998|2024-10-15 00:12:16|dbfs:/mnt/landing...|          2024-10-14 15:48:30|\n|700022|    Aaron Allen|sydneyrubio@examp...|(348) 291-5114|2024-10-15 00:12:16|dbfs:/mnt/landing...|          2024-10-14 15:48:30|\n|700020|    Aaron Allen|mooresean@example...|(664) 559-2533|2024-10-15 00:12:16|dbfs:/mnt/landing...|          2024-10-14 15:48:30|\n|700023|    Aaron Allen|watersjennifer@ex...|(815) 875-5276|2024-10-15 00:12:16|dbfs:/mnt/landing...|          2024-10-14 15:48:30|\n|     9|    Aaron Allen| amber80@example.com|(613) 319-4730|2024-10-15 00:12:16|dbfs:/mnt/landing...|          2024-10-14 15:48:30|\n|    11|    Aaron Allen|nicolecasey@examp...|(921) 454-7983|2024-10-15 00:12:16|dbfs:/mnt/landing...|          2024-10-14 15:48:30|\n|700019|    Aaron Allen|kellycruz@example...|(976) 504-9397|2024-10-15 00:12:16|dbfs:/mnt/landing...|          2024-10-14 15:48:30|\n|    12|    Aaron Allen|reyesmonica@examp...|(603) 745-9470|2024-10-15 00:12:16|dbfs:/mnt/landing...|          2024-10-14 15:48:30|\n|    10|    Aaron Allen|joseph77@example.net|(104) 903-5333|2024-10-15 00:12:16|dbfs:/mnt/landing...|          2024-10-14 15:48:30|\n+------+---------------+--------------------+--------------+-------------------+--------------------+-----------------------------+\nonly showing top 35 rows\n\n"
     ]
    }
   ],
   "source": [
    "dataframes[\"user\"].orderBy(\"FullName\").show(35)"
   ]
  },
  {
   "cell_type": "code",
   "execution_count": 0,
   "metadata": {
    "application/vnd.databricks.v1+cell": {
     "cellMetadata": {
      "byteLimit": 2048000,
      "rowLimit": 10000
     },
     "inputWidgets": {},
     "nuid": "9f9568eb-0634-4722-993c-34ce35378b12",
     "showTitle": false,
     "title": ""
    }
   },
   "outputs": [
    {
     "output_type": "execute_result",
     "data": {
      "text/plain": [
       "'\\n\\nfrom pyspark.sql import Window\\nfrom pyspark.sql.functions import count, row_number, desc\\n\\n# Define the window specification for counting\\nwindow_spec = Window.partitionBy(\"Longitude\", \"Latitude\").orderBy(desc(\"count\"))\\n\\n# Group by Longitude and Latitude, count occurrences, and order\\nlocation_with_count = location_df.groupBy(\"Longitude\", \"Latitude\")     .agg(count(\"*\").alias(\"count\"))\\n\\n# Define a new window to assign row numbers based on count\\nrownum_window = Window.orderBy(desc(\"count\"))\\n\\n# Add a row number based on the ordered counts\\nlocation_with_rownum = location_with_count.withColumn(\"rownum\", row_number().over(rownum_window))\\n\\n# Filter to keep only rows with count equal to 1\\nfiltered_df = location_with_rownum.filter(location_with_rownum[\"count\"] == 1)\\n\\n# Show the results, ordering by count\\nfiltered_df.select(\"Longitude\", \"Latitude\", \"count\").orderBy(desc(\"count\")).show()\\n'"
      ]
     },
     "execution_count": 82,
     "metadata": {},
     "output_type": "execute_result"
    }
   ],
   "source": [
    "\"\"\"\n",
    "\n",
    "from pyspark.sql import Window\n",
    "from pyspark.sql.functions import count, row_number, desc\n",
    "\n",
    "# Define the window specification for counting\n",
    "window_spec = Window.partitionBy(\"Longitude\", \"Latitude\").orderBy(desc(\"count\"))\n",
    "\n",
    "# Group by Longitude and Latitude, count occurrences, and order\n",
    "location_with_count = location_df.groupBy(\"Longitude\", \"Latitude\") \\\n",
    "    .agg(count(\"*\").alias(\"count\"))\n",
    "\n",
    "# Define a new window to assign row numbers based on count\n",
    "rownum_window = Window.orderBy(desc(\"count\"))\n",
    "\n",
    "# Add a row number based on the ordered counts\n",
    "location_with_rownum = location_with_count.withColumn(\"rownum\", row_number().over(rownum_window))\n",
    "\n",
    "# Filter to keep only rows with count equal to 1\n",
    "filtered_df = location_with_rownum.filter(location_with_rownum[\"count\"] == 1)\n",
    "\n",
    "# Show the results, ordering by count\n",
    "filtered_df.select(\"Longitude\", \"Latitude\", \"count\").orderBy(desc(\"count\")).show()\n",
    "\"\"\""
   ]
  },
  {
   "cell_type": "code",
   "execution_count": 0,
   "metadata": {
    "application/vnd.databricks.v1+cell": {
     "cellMetadata": {
      "byteLimit": 2048000,
      "rowLimit": 10000
     },
     "inputWidgets": {},
     "nuid": "fd1d2a5d-9458-4a8d-be6e-3ba40020117d",
     "showTitle": false,
     "title": ""
    }
   },
   "outputs": [
    {
     "output_type": "stream",
     "name": "stdout",
     "output_type": "stream",
     "text": [
      "root\n |-- LocationID: integer (nullable = true)\n |-- Longitude: decimal(12,8) (nullable = true)\n |-- Latitude: decimal(12,8) (nullable = true)\n |-- _processing_date: timestamp (nullable = true)\n |-- _input_filename: string (nullable = true)\n |-- _input_file_modification_date: timestamp (nullable = true)\n\nroot\n |-- PaymentID: integer (nullable = true)\n |-- PaymentMethodID: integer (nullable = true)\n |-- PaymentStatusID: integer (nullable = true)\n |-- _processing_date: timestamp (nullable = true)\n |-- _input_filename: string (nullable = true)\n |-- _input_file_modification_date: timestamp (nullable = true)\n\nroot\n |-- PaymentMethodID: integer (nullable = true)\n |-- MethodName: string (nullable = true)\n |-- _processing_date: timestamp (nullable = true)\n |-- _input_filename: string (nullable = true)\n |-- _input_file_modification_date: timestamp (nullable = true)\n\nroot\n |-- PaymentStatusID: integer (nullable = true)\n |-- StatusName: string (nullable = true)\n |-- _processing_date: timestamp (nullable = true)\n |-- _input_filename: string (nullable = true)\n |-- _input_file_modification_date: timestamp (nullable = true)\n\nroot\n |-- RequestID: integer (nullable = true)\n |-- PassengerID: integer (nullable = true)\n |-- PickupLocationID: integer (nullable = true)\n |-- DropoffLocationID: integer (nullable = true)\n |-- RequestTime: timestamp (nullable = true)\n |-- AcceptTime: timestamp (nullable = true)\n |-- _processing_date: timestamp (nullable = true)\n |-- _input_filename: string (nullable = true)\n |-- _input_file_modification_date: timestamp (nullable = true)\n\nroot\n |-- TripID: integer (nullable = true)\n |-- RequestID: integer (nullable = true)\n |-- DriverID: integer (nullable = true)\n |-- VehicleID: integer (nullable = true)\n |-- PaymentID: integer (nullable = true)\n |-- TripStartTime: timestamp (nullable = true)\n |-- TripEndTime: timestamp (nullable = true)\n |-- TripDistance: decimal(10,2) (nullable = true)\n |-- BaseFare: decimal(10,2) (nullable = true)\n |-- ExtraFare: decimal(10,2) (nullable = true)\n |-- MtaTax: decimal(10,2) (nullable = true)\n |-- TipAmount: decimal(10,2) (nullable = true)\n |-- TollsAmount: decimal(10,2) (nullable = true)\n |-- ImprovementSurcharge: decimal(10,2) (nullable = true)\n |-- _processing_date: timestamp (nullable = true)\n |-- _input_filename: string (nullable = true)\n |-- _input_file_modification_date: timestamp (nullable = true)\n\nroot\n |-- UserID: integer (nullable = true)\n |-- FullName: string (nullable = true)\n |-- Email: string (nullable = true)\n |-- PhoneNumber: string (nullable = true)\n |-- _processing_date: timestamp (nullable = true)\n |-- _input_filename: string (nullable = true)\n |-- _input_file_modification_date: timestamp (nullable = true)\n\nroot\n |-- MakeID: integer (nullable = true)\n |-- MakeName: string (nullable = true)\n |-- _processing_date: timestamp (nullable = true)\n |-- _input_filename: string (nullable = true)\n |-- _input_file_modification_date: timestamp (nullable = true)\n\nroot\n |-- VehicleID: integer (nullable = true)\n |-- DriverID: integer (nullable = true)\n |-- MakeID: integer (nullable = true)\n |-- Model: string (nullable = true)\n |-- Year: integer (nullable = true)\n |-- Color: string (nullable = true)\n |-- LicensePlate: string (nullable = true)\n |-- _processing_date: timestamp (nullable = true)\n |-- _input_filename: string (nullable = true)\n |-- _input_file_modification_date: timestamp (nullable = true)\n\n"
     ]
    }
   ],
   "source": [
    "for df in dataframes.values():\n",
    "    df.printSchema()"
   ]
  },
  {
   "cell_type": "markdown",
   "metadata": {
    "application/vnd.databricks.v1+cell": {
     "cellMetadata": {
      "byteLimit": 2048000,
      "rowLimit": 10000
     },
     "inputWidgets": {},
     "nuid": "d065c991-5d53-412b-919c-cfb1845bc82f",
     "showTitle": false,
     "title": ""
    }
   },
   "source": [
    "# Renaming all columns in each dataframe to snake_case"
   ]
  },
  {
   "cell_type": "code",
   "execution_count": 0,
   "metadata": {
    "application/vnd.databricks.v1+cell": {
     "cellMetadata": {
      "byteLimit": 2048000,
      "rowLimit": 10000
     },
     "inputWidgets": {},
     "nuid": "b4875b7b-27bb-4119-b9df-254a842d049e",
     "showTitle": false,
     "title": ""
    }
   },
   "outputs": [],
   "source": [
    "import re\n",
    "# Function to convert a string to snake_case\n",
    "def to_snake_case(name: str) -> str:\n",
    "    # Replace spaces and hyphens with underscores\n",
    "    name = re.sub(r'[\\s-]+', '_', name)\n",
    "\n",
    "    # Insert underscores before any uppercase letter that follows a lowercase letter\n",
    "    name = re.sub(r'([a-z])([A-Z])', r'\\1_\\2', name)\n",
    "\n",
    "    # Insert underscores between groups of uppercase letters and lowercase letters\n",
    "    name = re.sub(r'([A-Z]+)([A-Z][a-z])', r'\\1_\\2', name)  # e.g., ABc -> AB_c\n",
    "    \n",
    "    # Handle multiple uppercase letters\n",
    "    name = re.sub(r'([A-Z]+)([A-Z][a-z])', r'\\1_\\2', name)  # Ensure a transition from uppercase to lowercase has an underscore\n",
    "\n",
    "    # Avoid double underscores by replacing multiple underscores with a single underscore\n",
    "    name = re.sub(r'__+', '_', name)\n",
    "\n",
    "    # Remove leading underscores if present and convert to lowercase\n",
    "    name = name.lstrip('_').lower()\n",
    "\n",
    "    return name\n",
    "\n",
    "# Function to rename all columns in a DataFrame to snake_case\n",
    "def convert_columns_to_snake_case(df: DataFrame) -> DataFrame:\n",
    "    # Get the existing column names\n",
    "    original_columns = df.columns\n",
    "    # Generate new column names in snake_case\n",
    "    new_columns = [to_snake_case(col) for col in original_columns]\n",
    "\n",
    "    # Rename the columns in the DataFrame\n",
    "    for original_col, new_col in zip(original_columns, new_columns):\n",
    "        df = df.withColumnRenamed(original_col, new_col)\n",
    "    return df\n",
    "\n"
   ]
  },
  {
   "cell_type": "code",
   "execution_count": 0,
   "metadata": {
    "application/vnd.databricks.v1+cell": {
     "cellMetadata": {
      "byteLimit": 2048000,
      "rowLimit": 10000
     },
     "inputWidgets": {},
     "nuid": "4d5ed272-b741-45f5-9184-9af61943773c",
     "showTitle": false,
     "title": ""
    }
   },
   "outputs": [
    {
     "output_type": "stream",
     "name": "stdout",
     "output_type": "stream",
     "text": [
      "+-----------+------------+-----------+-------------------+--------------------+----------------------------+\n|location_id|   longitude|   latitude|    processing_date|      input_filename|input_file_modification_date|\n+-----------+------------+-----------+-------------------+--------------------+----------------------------+\n|      76173|-73.99945068|40.72192383|2024-10-15 00:11:46|dbfs:/mnt/landing...|         2024-10-14 15:47:38|\n+-----------+------------+-----------+-------------------+--------------------+----------------------------+\nonly showing top 1 row\n\n+----------+-----------------+-----------------+-------------------+--------------------+----------------------------+\n|payment_id|payment_method_id|payment_status_id|    processing_date|      input_filename|input_file_modification_date|\n+----------+-----------------+-----------------+-------------------+--------------------+----------------------------+\n|         6|                6|                4|2024-10-15 00:11:53|dbfs:/mnt/landing...|         2024-10-14 15:44:24|\n+----------+-----------------+-----------------+-------------------+--------------------+----------------------------+\nonly showing top 1 row\n\n+-----------------+-----------+-------------------+--------------------+----------------------------+\n|payment_method_id|method_name|    processing_date|      input_filename|input_file_modification_date|\n+-----------------+-----------+-------------------+--------------------+----------------------------+\n|                5| Google Pay|2024-10-15 00:11:59|dbfs:/mnt/landing...|         2024-10-14 15:42:53|\n+-----------------+-----------+-------------------+--------------------+----------------------------+\nonly showing top 1 row\n\n+-----------------+-----------+-------------------+--------------------+----------------------------+\n|payment_status_id|status_name|    processing_date|      input_filename|input_file_modification_date|\n+-----------------+-----------+-------------------+--------------------+----------------------------+\n|                2|     Failed|2024-10-15 00:12:02|dbfs:/mnt/landing...|         2024-10-14 15:42:36|\n+-----------------+-----------+-------------------+--------------------+----------------------------+\nonly showing top 1 row\n\n+----------+------------+------------------+-------------------+-------------------+-------------------+-------------------+--------------------+----------------------------+\n|request_id|passenger_id|pickup_location_id|dropoff_location_id|       request_time|        accept_time|    processing_date|      input_filename|input_file_modification_date|\n+----------+------------+------------------+-------------------+-------------------+-------------------+-------------------+--------------------+----------------------------+\n|    199505|       97802|            421670|             314226|2015-01-10 21:21:00|2015-01-10 21:31:00|2024-10-15 00:12:05|dbfs:/mnt/landing...|         2024-10-14 15:47:33|\n+----------+------------+------------------+-------------------+-------------------+-------------------+-------------------+--------------------+----------------------------+\nonly showing top 1 row\n\n+-------+----------+---------+----------+----------+-------------------+-------------------+-------------+---------+----------+-------+----------+------------+---------------------+-------------------+--------------------+----------------------------+\n|trip_id|request_id|driver_id|vehicle_id|payment_id|    trip_start_time|      trip_end_time|trip_distance|base_fare|extra_fare|mta_tax|tip_amount|tolls_amount|improvement_surcharge|    processing_date|      input_filename|input_file_modification_date|\n+-------+----------+---------+----------+----------+-------------------+-------------------+-------------+---------+----------+-------+----------+------------+---------------------+-------------------+--------------------+----------------------------+\n|      1|    369036|   784422|    363309|         6|2015-01-15 19:05:00|2015-01-15 19:23:00|         1.59|    12.00|      1.00|   0.50|      3.25|        0.00|                 0.30|2024-10-15 00:12:09|dbfs:/mnt/landing...|         2024-10-14 15:49:31|\n+-------+----------+---------+----------+----------+-------------------+-------------------+-------------+---------+----------+-------+----------+------------+---------------------+-------------------+--------------------+----------------------------+\nonly showing top 1 row\n\n+-------+--------------+------------------+--------------+-------------------+--------------------+----------------------------+\n|user_id|     full_name|             email|  phone_number|    processing_date|      input_filename|input_file_modification_date|\n+-------+--------------+------------------+--------------+-------------------+--------------------+----------------------------+\n|   4583|Alexander Ruiz|bbarry@example.com|(687) 331-4684|2024-10-15 00:12:16|dbfs:/mnt/landing...|         2024-10-14 15:48:30|\n+-------+--------------+------------------+--------------+-------------------+--------------------+----------------------------+\nonly showing top 1 row\n\n+-------+---------+-------------------+--------------------+----------------------------+\n|make_id|make_name|    processing_date|      input_filename|input_file_modification_date|\n+-------+---------+-------------------+--------------------+----------------------------+\n|      8|   Nissan|2024-10-15 00:12:21|dbfs:/mnt/landing...|         2024-10-14 15:42:41|\n+-------+---------+-------------------+--------------------+----------------------------+\nonly showing top 1 row\n\n+----------+---------+-------+--------+----+-----+-------------+-------------------+--------------------+----------------------------+\n|vehicle_id|driver_id|make_id|   model|year|color|license_plate|    processing_date|      input_filename|input_file_modification_date|\n+----------+---------+-------+--------+----+-----+-------------+-------------------+--------------------+----------------------------+\n|         1|   768428|      1|3 Series|1990|Black|        056TZ|2024-10-15 00:12:24|dbfs:/mnt/landing...|         2024-10-14 15:46:38|\n+----------+---------+-------+--------+----+-----+-------------+-------------------+--------------------+----------------------------+\nonly showing top 1 row\n\n"
     ]
    }
   ],
   "source": [
    "# Loop through the list of DataFrames and apply the column name conversion\n",
    "for df_name, df in dataframes.items():\n",
    "    # Apply column name conversion\n",
    "    dataframes[df_name] = convert_columns_to_snake_case(df)\n",
    "    dataframes[df_name].show(1)\n"
   ]
  },
  {
   "cell_type": "code",
   "execution_count": 0,
   "metadata": {
    "application/vnd.databricks.v1+cell": {
     "cellMetadata": {
      "byteLimit": 2048000,
      "rowLimit": 10000
     },
     "inputWidgets": {},
     "nuid": "631bce99-22d8-4c68-b29e-28cc5899ca2d",
     "showTitle": false,
     "title": ""
    }
   },
   "outputs": [],
   "source": [
    "processing_date = date_trunc('second', current_timestamp())\n",
    "\n",
    "for df_name, df in dataframes.items():\n",
    "    # Apply column name conversion\n",
    "    dataframes[df_name] = df.withColumn(\"processing_date\", processing_date) \\\n",
    "    .withColumnRenamed(\"input_file_modification_date\", \"record_modified_date\") \\\n",
    "    .drop(\"input_filename\")\n",
    "\n"
   ]
  },
  {
   "cell_type": "code",
   "execution_count": 0,
   "metadata": {
    "application/vnd.databricks.v1+cell": {
     "cellMetadata": {
      "byteLimit": 2048000,
      "rowLimit": 10000
     },
     "inputWidgets": {},
     "nuid": "8d646f96-05e7-4e74-9818-c59149f71c60",
     "showTitle": false,
     "title": ""
    }
   },
   "outputs": [
    {
     "output_type": "stream",
     "name": "stdout",
     "output_type": "stream",
     "text": [
      "+-------+-----------------+--------------------+--------------+-------------------+--------------------+\n|user_id|        full_name|               email|  phone_number|    processing_date|record_modified_date|\n+-------+-----------------+--------------------+--------------+-------------------+--------------------+\n|   4583|   Alexander Ruiz|  bbarry@example.com|(687) 331-4684|2024-10-15 00:12:55| 2024-10-14 15:48:30|\n|   4584|   Alexander Ruiz|sydneyfleming@exa...|(367) 990-5730|2024-10-15 00:12:55| 2024-10-14 15:48:30|\n|   4585|Alexander Salinas| tyler41@example.net|(678) 623-3713|2024-10-15 00:12:55| 2024-10-14 15:48:30|\n|   4586|Alexander Sanchez| james59@example.com|(740) 652-2668|2024-10-15 00:12:55| 2024-10-14 15:48:30|\n|   4587|Alexander Santana|qmitchell@example...|(995) 993-2936|2024-10-15 00:12:55| 2024-10-14 15:48:30|\n+-------+-----------------+--------------------+--------------+-------------------+--------------------+\nonly showing top 5 rows\n\n"
     ]
    }
   ],
   "source": [
    "dataframes[\"user\"].show(5)"
   ]
  },
  {
   "cell_type": "code",
   "execution_count": 0,
   "metadata": {
    "application/vnd.databricks.v1+cell": {
     "cellMetadata": {
      "byteLimit": 2048000,
      "rowLimit": 10000
     },
     "inputWidgets": {},
     "nuid": "d546eab8-23d5-4bc0-ab16-74b929c6bf5b",
     "showTitle": false,
     "title": ""
    }
   },
   "outputs": [],
   "source": [
    "\n",
    "# List of DataFrames, locations, and hash columns with an attribute for slowly changing dimension (SCD)\n",
    "tables_info = [\n",
    "    {\"df\": dataframes[\"user\"], \"location\": f\"/mnt/silver/user\", \"hash_columns\": [\"user_id\", \"full_name\"], \"is_scd\": True},\n",
    "    {\"df\": dataframes[\"location\"], \"location\": f\"/mnt/silver/location\", \"hash_columns\": [\"location_id\"], \"is_scd\": True},\n",
    "    {\"df\": dataframes[\"payment\"], \"location\": f\"/mnt/silver/payment\", \"hash_columns\": [\"payment_id\"], \"is_scd\": True},\n",
    "    {\"df\": dataframes[\"paymentmethod\"], \"location\": f\"/mnt/silver/paymentmethod\", \"hash_columns\": [\"payment_method_id\"], \"is_scd\": True},\n",
    "    {\"df\": dataframes[\"paymentstatus\"], \"location\": f\"/mnt/silver/paymentstatus\", \"hash_columns\": [\"payment_status_id\"], \"is_scd\": True},\n",
    "    {\"df\": dataframes[\"request\"], \"location\": f\"/mnt/silver/request\", \"hash_columns\": [\"request_id\"], \"is_scd\": True},\n",
    "    {\"df\": dataframes[\"trip\"], \"location\": f\"/mnt/silver/trip\", \"hash_columns\": [\"trip_id\"], \"is_scd\": True},\n",
    "    {\"df\": dataframes[\"vehicles\"], \"location\": f\"/mnt/silver/vehicles\", \"hash_columns\": [\"vehicle_id\"], \"is_scd\": True},\n",
    "    {\"df\": dataframes[\"vehiclemakes\"], \"location\": f\"/mnt/silver/vehiclemakes\", \"hash_columns\": [\"make_id\"], \"is_scd\": True}\n",
    "]\n",
    "\n",
    "def deduplicate_source_df(source_df: DataFrame, hash_columns: list) -> DataFrame:\n",
    "    \"\"\"\n",
    "    Deduplicates the source DataFrame based on the hash columns.\n",
    "    \n",
    "    Args:\n",
    "        source_df (DataFrame): The source DataFrame to be deduplicated.\n",
    "        hash_columns (list): List of columns to be used for deduplication.\n",
    "        \n",
    "    Returns:\n",
    "        DataFrame: The deduplicated DataFrame.\n",
    "    \"\"\"\n",
    "    return source_df.dropDuplicates(hash_columns)\n",
    "\n",
    "# Function to generate a hash column for specified columns in a DataFrame\n",
    "def generate_hash_column(df: DataFrame, columns: list, hash_column_name: str = \"record_hash\") -> DataFrame:\n",
    "    \"\"\"\n",
    "    Generates a hash column for specified columns in the DataFrame using SHA-256.\n",
    "    \"\"\"\n",
    "    return df.withColumn(hash_column_name, sha2(concat_ws(\"||\", *columns), 256))\n",
    "\n",
    "# Function to build merge condition using hash\n",
    "def build_merge_condition_with_hash(target_alias: str, source_alias: str, hash_column: str) -> str:\n",
    "    \"\"\"\n",
    "    Builds a merge condition string using the hash column.\n",
    "    \"\"\"\n",
    "    return f\"{target_alias}.{hash_column} = {source_alias}.{hash_column}\"\n",
    "\n",
    "# Function to merge Delta tables based on SCD flag\n",
    "def merge_delta_table(source_df: DataFrame, delta_location: str, hash_columns: list, is_scd: bool):\n",
    "    \"\"\"\n",
    "    Performs merge for slowly changing dimension (SCD) tables. If is_scd is False, data is simply overwritten.\n",
    "    \"\"\"\n",
    "    # Generate hash column for the source DataFrame\n",
    "    source_df_hashed = generate_hash_column(source_df, hash_columns)\n",
    "    \n",
    "    # If the table is an SCD, perform a merge operation\n",
    "    if is_scd:\n",
    "        try:\n",
    "            # Check if the Delta table exists at the specified location\n",
    "            if DeltaTable.isDeltaTable(spark, delta_location):\n",
    "                print(f\"Delta table found at {delta_location}. Proceeding with merge...\")\n",
    "                delta_table = DeltaTable.forPath(spark, delta_location)\n",
    "                \n",
    "                # Alias for target and source\n",
    "                target_alias = \"target\"\n",
    "                source_alias = \"src\"\n",
    "                \n",
    "                # Generate hash column for the target Delta table\n",
    "                delta_table_df = spark.read.format(\"delta\").load(delta_location)\n",
    "                delta_table_hashed = generate_hash_column(delta_table_df, hash_columns)\n",
    "                \n",
    "                # Build the merge condition using the hash column\n",
    "                merge_condition = build_merge_condition_with_hash(target_alias, source_alias, \"record_hash\")\n",
    "                \n",
    "                # Perform the merge operation\n",
    "                delta_table.alias(target_alias).merge(\n",
    "                    source=source_df_hashed.alias(source_alias),\n",
    "                    condition=merge_condition\n",
    "                ).whenMatchedUpdateAll().whenNotMatchedInsertAll().execute()\n",
    "                \n",
    "                print(f\"Merge completed for {delta_location}.\")\n",
    "            else:\n",
    "                # If Delta table doesn't exist, write the DataFrame to that location\n",
    "                print(f\"No Delta table found at {delta_location}. Writing new DataFrame...\")\n",
    "                source_df_hashed.write.mode(\"overwrite\").format(\"delta\").save(delta_location)\n",
    "                print(f\"DataFrame written to {delta_location}.\")\n",
    "        except Exception as e:\n",
    "            print(f\"Error processing table at {delta_location}: {e}\")\n",
    "    else:\n",
    "        # For non-SCD tables, just overwrite the data\n",
    "        print(f\"{delta_location} is not an SCD table. Overwriting...\")\n",
    "        source_df_hashed.write.mode(\"overwrite\").format(\"delta\").save(delta_location)\n",
    "        print(f\"DataFrame overwritten at {delta_location}.\")"
   ]
  },
  {
   "cell_type": "code",
   "execution_count": 0,
   "metadata": {
    "application/vnd.databricks.v1+cell": {
     "cellMetadata": {
      "byteLimit": 2048000,
      "rowLimit": 10000
     },
     "inputWidgets": {},
     "nuid": "323d9a4e-6938-4b6c-a1c8-701135b34baa",
     "showTitle": false,
     "title": ""
    }
   },
   "outputs": [
    {
     "output_type": "stream",
     "name": "stdout",
     "output_type": "stream",
     "text": [
      "Schema of source DataFrame:\nroot\n |-- user_id: integer (nullable = true)\n |-- full_name: string (nullable = true)\n |-- email: string (nullable = true)\n |-- phone_number: string (nullable = true)\n |-- processing_date: timestamp (nullable = true)\n |-- record_modified_date: timestamp (nullable = true)\n\nDelta table found at /mnt/silver/user. Proceeding with merge...\nMerge completed for /mnt/silver/user.\nSchema of source DataFrame:\nroot\n |-- location_id: integer (nullable = true)\n |-- longitude: decimal(12,8) (nullable = true)\n |-- latitude: decimal(12,8) (nullable = true)\n |-- processing_date: timestamp (nullable = true)\n |-- record_modified_date: timestamp (nullable = true)\n\n/mnt/silver/location is not an SCD table. Overwriting...\nDataFrame overwritten at /mnt/silver/location.\nSchema of source DataFrame:\nroot\n |-- payment_id: integer (nullable = true)\n |-- payment_method_id: integer (nullable = true)\n |-- payment_status_id: integer (nullable = true)\n |-- processing_date: timestamp (nullable = true)\n |-- record_modified_date: timestamp (nullable = true)\n\n/mnt/silver/payment is not an SCD table. Overwriting...\nDataFrame overwritten at /mnt/silver/payment.\nSchema of source DataFrame:\nroot\n |-- payment_method_id: integer (nullable = true)\n |-- method_name: string (nullable = true)\n |-- processing_date: timestamp (nullable = true)\n |-- record_modified_date: timestamp (nullable = true)\n\n/mnt/silver/paymentmethod is not an SCD table. Overwriting...\nDataFrame overwritten at /mnt/silver/paymentmethod.\nSchema of source DataFrame:\nroot\n |-- payment_status_id: integer (nullable = true)\n |-- status_name: string (nullable = true)\n |-- processing_date: timestamp (nullable = true)\n |-- record_modified_date: timestamp (nullable = true)\n\n/mnt/silver/paymentstatus is not an SCD table. Overwriting...\nDataFrame overwritten at /mnt/silver/paymentstatus.\nSchema of source DataFrame:\nroot\n |-- request_id: integer (nullable = true)\n |-- passenger_id: integer (nullable = true)\n |-- pickup_location_id: integer (nullable = true)\n |-- dropoff_location_id: integer (nullable = true)\n |-- request_time: timestamp (nullable = true)\n |-- accept_time: timestamp (nullable = true)\n |-- processing_date: timestamp (nullable = true)\n |-- record_modified_date: timestamp (nullable = true)\n\n/mnt/silver/request is not an SCD table. Overwriting...\nDataFrame overwritten at /mnt/silver/request.\nSchema of source DataFrame:\nroot\n |-- trip_id: integer (nullable = true)\n |-- request_id: integer (nullable = true)\n |-- driver_id: integer (nullable = true)\n |-- vehicle_id: integer (nullable = true)\n |-- payment_id: integer (nullable = true)\n |-- trip_start_time: timestamp (nullable = true)\n |-- trip_end_time: timestamp (nullable = true)\n |-- trip_distance: decimal(10,2) (nullable = true)\n |-- base_fare: decimal(10,2) (nullable = true)\n |-- extra_fare: decimal(10,2) (nullable = true)\n |-- mta_tax: decimal(10,2) (nullable = true)\n |-- tip_amount: decimal(10,2) (nullable = true)\n |-- tolls_amount: decimal(10,2) (nullable = true)\n |-- improvement_surcharge: decimal(10,2) (nullable = true)\n |-- processing_date: timestamp (nullable = true)\n |-- record_modified_date: timestamp (nullable = true)\n\n/mnt/silver/trip is not an SCD table. Overwriting...\nDataFrame overwritten at /mnt/silver/trip.\nSchema of source DataFrame:\nroot\n |-- vehicle_id: integer (nullable = true)\n |-- driver_id: integer (nullable = true)\n |-- make_id: integer (nullable = true)\n |-- model: string (nullable = true)\n |-- year: integer (nullable = true)\n |-- color: string (nullable = true)\n |-- license_plate: string (nullable = true)\n |-- processing_date: timestamp (nullable = true)\n |-- record_modified_date: timestamp (nullable = true)\n\nDelta table found at /mnt/silver/vehicles. Proceeding with merge...\nMerge completed for /mnt/silver/vehicles.\nSchema of source DataFrame:\nroot\n |-- make_id: integer (nullable = true)\n |-- make_name: string (nullable = true)\n |-- processing_date: timestamp (nullable = true)\n |-- record_modified_date: timestamp (nullable = true)\n\n/mnt/silver/vehiclemakes is not an SCD table. Overwriting...\nDataFrame overwritten at /mnt/silver/vehiclemakes.\n"
     ]
    }
   ],
   "source": [
    "# Loop through each table and perform the operations\n",
    "for table_info in tables_info:\n",
    "    # Print the schema of the source DataFrame\n",
    "    print(\"Schema of source DataFrame:\")\n",
    "    table_info[\"df\"].printSchema()  # Ensure we are printing the schema of the specific DataFrame\n",
    "\n",
    "    # Deduplicate the source DataFrame based on hash columns\n",
    "    df = deduplicate_source_df(table_info[\"df\"], table_info[\"hash_columns\"])\n",
    "    \n",
    "    # Prepare the Delta table location and SCD flag\n",
    "    delta_location = table_info[\"location\"]\n",
    "    hash_columns = table_info[\"hash_columns\"]\n",
    "    is_scd = table_info[\"is_scd\"]  # Check if it's a slowly changing dimension\n",
    "\n",
    "    # Perform merge or overwrite based on is_scd flag\n",
    "    merge_delta_table(df, delta_location, hash_columns, is_scd)"
   ]
  },
  {
   "cell_type": "code",
   "execution_count": 0,
   "metadata": {
    "application/vnd.databricks.v1+cell": {
     "cellMetadata": {
      "byteLimit": 2048000,
      "rowLimit": 10000
     },
     "inputWidgets": {},
     "nuid": "9df5aa1c-3727-48d4-aa9b-b82820c7d730",
     "showTitle": false,
     "title": ""
    }
   },
   "outputs": [
    {
     "output_type": "stream",
     "name": "stdout",
     "output_type": "stream",
     "text": [
      "+-------+---------------+--------------------+--------------+-------------------+--------------------+--------------------+\n|user_id|      full_name|               email|  phone_number|    processing_date|record_modified_date|         record_hash|\n+-------+---------------+--------------------+--------------+-------------------+--------------------+--------------------+\n| 700001|   Aaron Abbott|angela67@example.com|(453) 832-3608|2024-10-15 00:12:56| 2024-10-14 15:48:30|6e1ef69ae8734c534...|\n|      1|   Aaron Acosta| vbishop@example.net|(677) 367-9557|2024-10-15 00:12:56| 2024-10-14 15:48:30|21d31195f82942e05...|\n| 700002|   Aaron Acosta|vanessa20@example...|(953) 599-6007|2024-10-15 00:12:56| 2024-10-14 15:48:30|62d5bc8c4ecbeaf3d...|\n|      4|    Aaron Adams|zjohnson@example.com|(324) 384-5822|2024-10-15 00:12:56| 2024-10-14 15:48:30|60f62b9afaac9bbb8...|\n| 700006|    Aaron Adams| emily69@example.net|(217) 156-8782|2024-10-15 00:12:56| 2024-10-14 15:48:30|4866e617e54ca7de7...|\n|      2|    Aaron Adams| james82@example.com|(332) 224-7965|2024-10-15 00:12:56| 2024-10-14 15:48:30|683e6c22fa1e45bef...|\n| 700007|    Aaron Adams|jesseschwartz@exa...|(250) 242-4652|2024-10-15 00:12:56| 2024-10-14 15:48:30|09f0d6b77ee353721...|\n| 700008|    Aaron Adams|  jill51@example.org|(120) 200-5627|2024-10-15 00:12:56| 2024-10-14 15:48:30|2136a8fcbeb5a2344...|\n|      3|    Aaron Adams|nicholas92@exampl...|(351) 943-8670|2024-10-15 00:12:56| 2024-10-14 15:48:30|500bf842d2becc183...|\n| 700005|    Aaron Adams|  dbowen@example.net|(672) 995-6696|2024-10-15 00:12:56| 2024-10-14 15:48:30|95bcf56ae7d7d1a85...|\n| 700003|    Aaron Adams|angela64@example.com|(619) 154-2732|2024-10-15 00:12:56| 2024-10-14 15:48:30|c5cb6cb18f3c64b7d...|\n| 700004|    Aaron Adams|beckdaniel@exampl...|(987) 878-1073|2024-10-15 00:12:56| 2024-10-14 15:48:30|d419e2eef5018e4d7...|\n| 700009|   Aaron Adkins|   jchan@example.com|(959) 936-7702|2024-10-15 00:12:56| 2024-10-14 15:48:30|64243d430f017b27b...|\n|      5|  Aaron Aguilar|anthony78@example...|(867) 762-3031|2024-10-15 00:12:56| 2024-10-14 15:48:30|a966dd203faf1291c...|\n|      6|  Aaron Aguilar|wilsonruben@examp...|(376) 707-8408|2024-10-15 00:12:56| 2024-10-14 15:48:30|7d403c55cd6dae43e...|\n| 700011|  Aaron Aguilar|reyeselizabeth@ex...|(554) 632-2702|2024-10-15 00:12:56| 2024-10-14 15:48:30|6b3dc250c9028f67b...|\n| 700010|  Aaron Aguilar|beverlyhale@examp...|(862) 346-3495|2024-10-15 00:12:56| 2024-10-14 15:48:30|9da28f3e6bf59f72f...|\n|      7|  Aaron Aguirre|samantha45@exampl...|(147) 383-2497|2024-10-15 00:12:56| 2024-10-14 15:48:30|e67e82d0ddd8f2482...|\n| 700014|Aaron Alexander|mercadoerin@examp...|(527) 635-4032|2024-10-15 00:12:56| 2024-10-14 15:48:30|1639c1f9be36ddcc4...|\n| 700012|Aaron Alexander|jasonhanna@exampl...|(868) 281-9704|2024-10-15 00:12:56| 2024-10-14 15:48:30|02ad6af82b5132694...|\n+-------+---------------+--------------------+--------------+-------------------+--------------------+--------------------+\nonly showing top 20 rows\n\n"
     ]
    }
   ],
   "source": [
    "spark.read.format(\"delta\").load(f\"/mnt/silver/user\").orderBy(\"full_name\").show()\n"
   ]
  },
  {
   "cell_type": "code",
   "execution_count": 0,
   "metadata": {
    "application/vnd.databricks.v1+cell": {
     "cellMetadata": {
      "byteLimit": 2048000,
      "rowLimit": 10000
     },
     "inputWidgets": {},
     "nuid": "2ccb0f7d-ba82-4fe3-a9cb-8598ffc3c5f8",
     "showTitle": false,
     "title": ""
    }
   },
   "outputs": [
    {
     "output_type": "execute_result",
     "data": {
      "text/plain": [
       "584246"
      ]
     },
     "execution_count": 91,
     "metadata": {},
     "output_type": "execute_result"
    }
   ],
   "source": [
    "spark.read.format(\"delta\").load(f\"/mnt/silver/user\").orderBy(\"full_name\").count()\n"
   ]
  },
  {
   "cell_type": "code",
   "execution_count": 0,
   "metadata": {
    "application/vnd.databricks.v1+cell": {
     "cellMetadata": {
      "byteLimit": 2048000,
      "rowLimit": 10000
     },
     "inputWidgets": {},
     "nuid": "8fda772d-3179-40f8-86a0-270f50f2493a",
     "showTitle": false,
     "title": ""
    }
   },
   "outputs": [
    {
     "output_type": "execute_result",
     "data": {
      "text/plain": [
       "584246"
      ]
     },
     "execution_count": 92,
     "metadata": {},
     "output_type": "execute_result"
    }
   ],
   "source": [
    "spark.read.format(\"delta\").load(f\"/mnt/silver/user\").select(\"user_id\").distinct().count()\n"
   ]
  },
  {
   "cell_type": "code",
   "execution_count": 0,
   "metadata": {
    "application/vnd.databricks.v1+cell": {
     "cellMetadata": {
      "byteLimit": 2048000,
      "rowLimit": 10000
     },
     "inputWidgets": {},
     "nuid": "943111ad-3eff-4d1f-852c-3553fff223b2",
     "showTitle": false,
     "title": ""
    }
   },
   "outputs": [
    {
     "output_type": "stream",
     "name": "stdout",
     "output_type": "stream",
     "text": [
      "+-----------------+-----------+-------------------+--------------------+--------------------+\n|payment_method_id|method_name|    processing_date|record_modified_date|         record_hash|\n+-----------------+-----------+-------------------+--------------------+--------------------+\n|                1|  Apple Pay|2024-10-15 00:13:16| 2024-10-14 15:42:53|6b86b273ff34fce19...|\n|                2|       Cash|2024-10-15 00:13:16| 2024-10-14 15:42:53|d4735e3a265e16eee...|\n|                3|Credit Card|2024-10-15 00:13:16| 2024-10-14 15:42:53|4e07408562bedb8b6...|\n|                4| Debit Card|2024-10-15 00:13:16| 2024-10-14 15:42:53|4b227777d4dd1fc61...|\n|                5| Google Pay|2024-10-15 00:13:16| 2024-10-14 15:42:53|ef2d127de37b942ba...|\n|                6|     PayPal|2024-10-15 00:13:16| 2024-10-14 15:42:53|e7f6c011776e8db7c...|\n+-----------------+-----------+-------------------+--------------------+--------------------+\n\n"
     ]
    }
   ],
   "source": [
    "spark.read.format(\"delta\").load(f\"/mnt/silver/paymentmethod\").show()\n"
   ]
  },
  {
   "cell_type": "code",
   "execution_count": 0,
   "metadata": {
    "application/vnd.databricks.v1+cell": {
     "cellMetadata": {
      "byteLimit": 2048000,
      "rowLimit": 10000
     },
     "inputWidgets": {},
     "nuid": "b2bf5352-881b-4a4f-984d-af42a1eef017",
     "showTitle": false,
     "title": ""
    }
   },
   "outputs": [
    {
     "output_type": "stream",
     "name": "stdout",
     "output_type": "stream",
     "text": [
      "location\nCreating external table: location\npayment\nCreating external table: payment\npaymentmethod\nCreating external table: paymentmethod\npaymentstatus\nCreating external table: paymentstatus\nrequest\nCreating external table: request\ntrip\nCreating external table: trip\nuser\nCreating external table: user\nvehiclemakes\nCreating external table: vehiclemakes\nvehicles\nCreating external table: vehicles\n"
     ]
    }
   ],
   "source": [
    "# After your write_to_delta function\n",
    "for file in dataframes.keys():\n",
    "    print(file)\n",
    "    table_name = f\"silver.{file}\"\n",
    "    print(f\"Creating external table: {file}\")\n",
    "    # Creating schema and external table in Spark SQL\n",
    "    spark.sql(\"CREATE SCHEMA IF NOT EXISTS silver\")\n",
    "    # Set the current database to 'silver'\n",
    "    spark.sql(\"USE silver\")\n",
    "    delta_table_path = f\"/mnt/silver/{file}\"\n",
    "    spark.sql(f\"CREATE EXTERNAL TABLE IF NOT EXISTS {table_name} USING DELTA LOCATION r'{delta_table_path}'\")\n",
    "    #spark.sql(f\"SELECT * FROM {table_name}\").show()"
   ]
  },
  {
   "cell_type": "code",
   "execution_count": 0,
   "metadata": {
    "application/vnd.databricks.v1+cell": {
     "cellMetadata": {
      "byteLimit": 2048000,
      "rowLimit": 10000
     },
     "inputWidgets": {},
     "nuid": "5f823489-7777-4d34-84f1-9ab520f354c3",
     "showTitle": false,
     "title": ""
    }
   },
   "outputs": [
    {
     "output_type": "stream",
     "name": "stdout",
     "output_type": "stream",
     "text": [
      "Current Schema:\n+----------------+\n|current_schema()|\n+----------------+\n|          silver|\n+----------------+\n\nTables in silver schema:\n+--------+-------------+-----------+\n|database|    tableName|isTemporary|\n+--------+-------------+-----------+\n|  silver|     location|      false|\n|  silver|      payment|      false|\n|  silver|paymentmethod|      false|\n|  silver|paymentstatus|      false|\n|  silver|      request|      false|\n|  silver|         trip|      false|\n|  silver|         user|      false|\n|  silver| vehiclemakes|      false|\n|  silver|     vehicles|      false|\n+--------+-------------+-----------+\n\n+-----------+------------+-----------+-------------------+--------------------+--------------------+\n|location_id|   longitude|   latitude|    processing_date|record_modified_date|         record_hash|\n+-----------+------------+-----------+-------------------+--------------------+--------------------+\n|     165829|-73.99032593|40.74445343|2024-10-15 00:13:07| 2024-10-14 15:47:38|fe78b967d15a4fc91...|\n+-----------+------------+-----------+-------------------+--------------------+--------------------+\n\n+----------+-----------------+-----------------+-------------------+--------------------+--------------------+\n|payment_id|payment_method_id|payment_status_id|    processing_date|record_modified_date|         record_hash|\n+----------+-----------------+-----------------+-------------------+--------------------+--------------------+\n|         1|                1|                1|2024-10-15 00:13:13| 2024-10-14 15:44:24|6b86b273ff34fce19...|\n+----------+-----------------+-----------------+-------------------+--------------------+--------------------+\n\n+-----------------+-----------+-------------------+--------------------+--------------------+\n|payment_method_id|method_name|    processing_date|record_modified_date|         record_hash|\n+-----------------+-----------+-------------------+--------------------+--------------------+\n|                1|  Apple Pay|2024-10-15 00:13:16| 2024-10-14 15:42:53|6b86b273ff34fce19...|\n+-----------------+-----------+-------------------+--------------------+--------------------+\n\n+-----------------+-----------+-------------------+--------------------+--------------------+\n|payment_status_id|status_name|    processing_date|record_modified_date|         record_hash|\n+-----------------+-----------+-------------------+--------------------+--------------------+\n|                1|  Completed|2024-10-15 00:13:18| 2024-10-14 15:42:36|6b86b273ff34fce19...|\n+-----------------+-----------+-------------------+--------------------+--------------------+\n\n+-------+-----------------+--------------------+--------------+-------------------+--------------------+--------------------+\n|user_id|        full_name|               email|  phone_number|    processing_date|record_modified_date|         record_hash|\n+-------+-----------------+--------------------+--------------+-------------------+--------------------+--------------------+\n| 212016|Mr. Wesley Wilson|katherinethompson...|(500) 294-5010|2024-10-15 00:12:56| 2024-10-14 15:48:30|00002005f0a155ed7...|\n+-------+-----------------+--------------------+--------------+-------------------+--------------------+--------------------+\n\n+----------+---------+-------+-----+----+-----+-------------+-------------------+--------------------+--------------------+\n|vehicle_id|driver_id|make_id|model|year|color|license_plate|    processing_date|record_modified_date|         record_hash|\n+----------+---------+-------+-----+----+-----+-------------+-------------------+--------------------+--------------------+\n|     67661|   700006|      2|Tahoe|1994| Blue|      YCF 385|2024-10-15 00:13:34| 2024-10-14 15:46:38|342187281ee89104d...|\n+----------+---------+-------+-----+----+-----+-------------+-------------------+--------------------+--------------------+\n\n+-------+---------+-------------------+--------------------+--------------------+\n|make_id|make_name|    processing_date|record_modified_date|         record_hash|\n+-------+---------+-------------------+--------------------+--------------------+\n|      1|      BMW|2024-10-15 00:13:43| 2024-10-14 15:42:41|6b86b273ff34fce19...|\n+-------+---------+-------------------+--------------------+--------------------+\n\n+-------+----------+---------+----------+----------+-------------------+-------------------+-------------+---------+----------+-------+----------+------------+---------------------+-------------------+--------------------+--------------------+\n|trip_id|request_id|driver_id|vehicle_id|payment_id|    trip_start_time|      trip_end_time|trip_distance|base_fare|extra_fare|mta_tax|tip_amount|tolls_amount|improvement_surcharge|    processing_date|record_modified_date|         record_hash|\n+-------+----------+---------+----------+----------+-------------------+-------------------+-------------+---------+----------+-------+----------+------------+---------------------+-------------------+--------------------+--------------------+\n|    302|    583793|   847700|     28659|         5|2015-01-06 10:02:00|2015-01-06 10:16:00|         3.38|    13.00|      0.00|   0.50|      0.00|        0.00|                 0.30|2024-10-15 00:13:26| 2024-10-14 15:49:31|e61a2b5d821eb746b...|\n+-------+----------+---------+----------+----------+-------------------+-------------------+-------------+---------+----------+-------+----------+------------+---------------------+-------------------+--------------------+--------------------+\n\n+----------+------------+------------------+-------------------+-------------------+-------------------+-------------------+--------------------+--------------------+\n|request_id|passenger_id|pickup_location_id|dropoff_location_id|       request_time|        accept_time|    processing_date|record_modified_date|         record_hash|\n+----------+------------+------------------+-------------------+-------------------+-------------------+-------------------+--------------------+--------------------+\n|     31320|       15601|            173187|             290727|2015-01-07 13:43:00|2015-01-07 13:44:00|2024-10-15 00:13:20| 2024-10-14 15:47:33|b158bfd4e57a15ac4...|\n+----------+------------+------------------+-------------------+-------------------+-------------------+-------------------+--------------------+--------------------+\n\n"
     ]
    }
   ],
   "source": [
    "\n",
    "# Verify the current schema\n",
    "print(\"Current Schema:\")\n",
    "spark.sql(\"SELECT current_database()\").show()\n",
    "\n",
    "# List all tables in the bronze schema\n",
    "print(\"Tables in silver schema:\")\n",
    "spark.sql(\"SHOW TABLES IN silver\").show()\n",
    "spark.sql(\"SELECT * FROM silver.Location LIMIT 1\").show()\n",
    "spark.sql(\"SELECT * FROM silver.payment LIMIT 1\").show()\n",
    "spark.sql(\"SELECT * FROM silver.paymentmethod LIMIT 1\").show()\n",
    "spark.sql(\"SELECT * FROM silver.paymentstatus LIMIT 1\").show()\n",
    "spark.sql(\"SELECT * FROM silver.user LIMIT 1\").show()\n",
    "spark.sql(\"SELECT * FROM silver.vehicles LIMIT 1\").show()\n",
    "spark.sql(\"SELECT * FROM silver.vehiclemakes LIMIT 1\").show()\n",
    "spark.sql(\"SELECT * FROM silver.trip LIMIT 1\").show()\n",
    "spark.sql(\"SELECT * FROM silver.request LIMIT 1\").show()\n"
   ]
  },
  {
   "cell_type": "code",
   "execution_count": 0,
   "metadata": {
    "application/vnd.databricks.v1+cell": {
     "cellMetadata": {
      "byteLimit": 2048000,
      "rowLimit": 10000
     },
     "inputWidgets": {},
     "nuid": "edfa423f-1eb9-4277-9d2c-474af52cb74c",
     "showTitle": false,
     "title": ""
    }
   },
   "outputs": [
    {
     "output_type": "stream",
     "name": "stdout",
     "output_type": "stream",
     "text": [
      "silver.location\nsilver.payment\nsilver.paymentmethod\nsilver.paymentstatus\nsilver.request\nsilver.trip\nsilver.user\nsilver.vehiclemakes\nsilver.vehicles\n"
     ]
    }
   ],
   "source": [
    "\n",
    "# Dictionary to store the DeltaTable objects\n",
    "delta_tables = {}\n",
    "\n",
    "for file in dataframes.keys():\n",
    "    table_name = f\"silver.{file}\"  # Define the table name in the bronze schema\n",
    "    print(table_name)\n",
    "    # Store the DeltaTable object in the dictionary using the file name as the key\n",
    "    delta_tables[file] = DeltaTable.forName(spark, table_name)\n",
    "\n",
    "    # Vacuum the table if it has not been vacuumed in the last 30 days.\n",
    "    if delta_tables[file].history(30).filter(\"operation = 'VACUUM START'\").count() == 0:\n",
    "        delta_tables[file].optimize()\n",
    "        delta_tables[file].vacuum()  # Default = 7 days\n",
    "\n"
   ]
  },
  {
   "cell_type": "code",
   "execution_count": 0,
   "metadata": {
    "application/vnd.databricks.v1+cell": {
     "cellMetadata": {
      "byteLimit": 2048000,
      "implicitDf": true,
      "rowLimit": 10000
     },
     "inputWidgets": {},
     "nuid": "777eb698-4d9c-4544-8e87-b01fc44509cd",
     "showTitle": false,
     "title": ""
    }
   },
   "outputs": [
    {
     "output_type": "display_data",
     "data": {
      "text/html": [
       "<style scoped>\n",
       "  .table-result-container {\n",
       "    max-height: 300px;\n",
       "    overflow: auto;\n",
       "  }\n",
       "  table, th, td {\n",
       "    border: 1px solid black;\n",
       "    border-collapse: collapse;\n",
       "  }\n",
       "  th, td {\n",
       "    padding: 5px;\n",
       "  }\n",
       "  th {\n",
       "    text-align: left;\n",
       "  }\n",
       "</style><div class='table-result-container'><table class='table-result'><thead style='background-color: white'><tr><th>count(DISTINCT user_id, full_name, email, phone_number, processing_date, record_modified_date, record_hash)</th></tr></thead><tbody><tr><td>584246</td></tr></tbody></table></div>"
      ]
     },
     "metadata": {
      "application/vnd.databricks.v1+output": {
       "addedWidgets": {},
       "aggData": [],
       "aggError": "",
       "aggOverflow": false,
       "aggSchema": [],
       "aggSeriesLimitReached": false,
       "aggType": "",
       "arguments": {},
       "columnCustomDisplayInfos": {},
       "data": [
        [
         584246
        ]
       ],
       "datasetInfos": [],
       "dbfsResultPath": null,
       "isJsonSchema": true,
       "metadata": {
        "dataframeName": "_sqldf",
        "executionCount": 97
       },
       "overflow": false,
       "plotOptions": {
        "customPlotOptions": {},
        "displayType": "table",
        "pivotAggregation": null,
        "pivotColumns": null,
        "xColumns": null,
        "yColumns": null
       },
       "removedWidgets": [],
       "schema": [
        {
         "metadata": "{\"__autoGeneratedAlias\":\"true\"}",
         "name": "count(DISTINCT user_id, full_name, email, phone_number, processing_date, record_modified_date, record_hash)",
         "type": "\"long\""
        }
       ],
       "type": "table"
      }
     },
     "output_type": "display_data"
    }
   ],
   "source": [
    "%sql\n",
    "SELECT count(distinct *) from silver.user"
   ]
  },
  {
   "cell_type": "markdown",
   "metadata": {
    "application/vnd.databricks.v1+cell": {
     "cellMetadata": {
      "byteLimit": 2048000,
      "rowLimit": 10000
     },
     "inputWidgets": {},
     "nuid": "178550d5-ae26-493d-a190-4d8a8419b471",
     "showTitle": false,
     "title": ""
    }
   },
   "source": [
    "# How long do trips take on average, and what is the average distance?"
   ]
  },
  {
   "cell_type": "markdown",
   "metadata": {
    "application/vnd.databricks.v1+cell": {
     "cellMetadata": {
      "byteLimit": 2048000,
      "rowLimit": 10000
     },
     "inputWidgets": {},
     "nuid": "615059b7-dba1-4cd8-9124-c01a4cae3924",
     "showTitle": false,
     "title": ""
    }
   },
   "source": [
    "# What are the most common pickup and dropoff locations?"
   ]
  },
  {
   "cell_type": "markdown",
   "metadata": {
    "application/vnd.databricks.v1+cell": {
     "cellMetadata": {
      "byteLimit": 2048000,
      "rowLimit": 10000
     },
     "inputWidgets": {},
     "nuid": "91e5c68e-3772-48df-a4c7-f01f5d9e496a",
     "showTitle": false,
     "title": ""
    }
   },
   "source": [
    "# Join request_df with location_df for both PickupLocationID and DropoffLocationID\n",
    "pickup_location_df = request_df.join(location_df, request_df.pickup_locationID == location_df.locatio_id)\n",
    "dropoff_location_df = request_df.join(location_df, request_df.DropoffLocationID == location_df.LocationID)\n",
    "\n",
    "# Find the most common pickup and dropoff locations\n",
    "pickup_location_df.groupBy(\"Longitude\", \"Latitude\").agg(count(\"*\").alias(\"pickup_count\")).orderBy(col(\"pickup_count\").desc()).show()\n",
    "dropoff_location_df.groupBy(\"Longitude\", \"Latitude\").agg(count(\"*\").alias(\"dropoff_count\")).orderBy(col(\"dropoff_count\").desc()).show()"
   ]
  },
  {
   "cell_type": "markdown",
   "metadata": {
    "application/vnd.databricks.v1+cell": {
     "cellMetadata": {
      "byteLimit": 2048000,
      "rowLimit": 10000
     },
     "inputWidgets": {},
     "nuid": "485da343-09ba-41b9-8425-4e0121876c84",
     "showTitle": false,
     "title": ""
    }
   },
   "source": [
    "# How many trips does each passenger take, and what is their average trip distance?"
   ]
  },
  {
   "cell_type": "markdown",
   "metadata": {
    "application/vnd.databricks.v1+cell": {
     "cellMetadata": {
      "byteLimit": 2048000,
      "rowLimit": 10000
     },
     "inputWidgets": {},
     "nuid": "1e2af1a8-dab6-4391-b292-e40419430fd2",
     "showTitle": false,
     "title": ""
    }
   },
   "source": [
    "# Join trip_df with request_df to get passenger information, then group by passenger\n",
    "trip_passenger_df = trip_df.join(request_df, trip_df.RequestID == request_df.RequestID)\n",
    "\n",
    "# Group by PassengerID to calculate the number of trips and average distance\n",
    "trip_passenger_df.groupBy(\"PassengerID\").agg(\n",
    "    count(\"*\").alias(\"trip_count\"),\n",
    "    avg(\"TripDistance\").alias(\"avg_trip_distance\")\n",
    ").orderBy(col(\"trip_count\").desc()).show()\n"
   ]
  },
  {
   "cell_type": "markdown",
   "metadata": {
    "application/vnd.databricks.v1+cell": {
     "cellMetadata": {
      "byteLimit": 2048000,
      "rowLimit": 10000
     },
     "inputWidgets": {},
     "nuid": "1c330ad3-134e-458a-b176-c2541806c77b",
     "showTitle": false,
     "title": ""
    }
   },
   "source": [
    "# What is the average fare and tip per trip by payment method?"
   ]
  },
  {
   "cell_type": "markdown",
   "metadata": {
    "application/vnd.databricks.v1+cell": {
     "cellMetadata": {
      "byteLimit": 2048000,
      "rowLimit": 10000
     },
     "inputWidgets": {},
     "nuid": "fbf06e02-3019-48cd-a1ab-8cc70b709e06",
     "showTitle": false,
     "title": ""
    }
   },
   "source": [
    "# What percentage of trips have different payment statuses?"
   ]
  },
  {
   "cell_type": "markdown",
   "metadata": {
    "application/vnd.databricks.v1+cell": {
     "cellMetadata": {
      "byteLimit": 2048000,
      "rowLimit": 10000
     },
     "inputWidgets": {},
     "nuid": "1edfccb3-dcea-44dd-95fe-55ed96514e54",
     "showTitle": false,
     "title": ""
    }
   },
   "source": [
    "# What are the most common vehicle makes and models used in trips?"
   ]
  },
  {
   "cell_type": "markdown",
   "metadata": {
    "application/vnd.databricks.v1+cell": {
     "cellMetadata": {
      "byteLimit": 2048000,
      "rowLimit": 10000
     },
     "inputWidgets": {},
     "nuid": "fd6d3872-c010-47d8-9617-a7917f7503df",
     "showTitle": false,
     "title": ""
    }
   },
   "source": [
    "vehicle_full_df = vehicle_df.join(vehicle_make_df, on='MakeID')\n",
    "\n",
    "# Group by MakeName and Model, and count the occurrences\n",
    "vehicle_full_df.groupBy('MakeName', 'Model').count().orderBy('count', ascending=False).show(10)"
   ]
  }
 ],
 "metadata": {
  "application/vnd.databricks.v1+notebook": {
   "dashboards": [],
   "environmentMetadata": null,
   "language": "python",
   "notebookMetadata": {
    "mostRecentlyExecutedCommandWithImplicitDF": {
     "commandId": 3799327554425599,
     "dataframes": [
      "_sqldf"
     ]
    },
    "pythonIndentUnit": 4
   },
   "notebookName": "bronze to silver",
   "widgets": {}
  },
  "kernelspec": {
   "display_name": "Python 3",
   "language": "python",
   "name": "python3"
  },
  "language_info": {
   "codemirror_mode": {
    "name": "ipython",
    "version": 3
   },
   "file_extension": ".py",
   "mimetype": "text/x-python",
   "name": "python",
   "nbconvert_exporter": "python",
   "pygments_lexer": "ipython3",
   "version": "3.13.0"
  }
 },
 "nbformat": 4,
 "nbformat_minor": 0
}
