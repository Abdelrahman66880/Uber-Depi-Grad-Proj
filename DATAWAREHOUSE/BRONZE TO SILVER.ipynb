{
 "cells": [
  {
   "cell_type": "code",
   "execution_count": 2,
   "id": "7809b954",
   "metadata": {},
   "outputs": [
    {
     "name": "stdout",
     "output_type": "stream",
     "text": [
      "Requirement already satisfied: pyspark in c:\\users\\abdelrahman mohammed\\anaconda3\\lib\\site-packages (3.5.3)\n",
      "Requirement already satisfied: py4j==0.10.9.7 in c:\\users\\abdelrahman mohammed\\anaconda3\\lib\\site-packages (from pyspark) (0.10.9.7)\n",
      "Note: you may need to restart the kernel to use updated packages.\n"
     ]
    }
   ],
   "source": [
    "#pip install pyspark"
   ]
  },
  {
   "cell_type": "markdown",
   "id": "0fc33030",
   "metadata": {},
   "source": [
    "# The core syntax for reading data in Apache Spark"
   ]
  },
  {
   "cell_type": "markdown",
   "id": "76abac09",
   "metadata": {},
   "source": [
    "spark.read \\\n",
    "     .format() \\ # this is the raw format you are reading from\n",
    "     .option(\"key\", \"value\") \\\n",
    "     .schema() \\ # this is optional, use when you know the schema\n",
    "     .load(path)"
   ]
  },
  {
   "cell_type": "markdown",
   "id": "4dcbd461",
   "metadata": {},
   "source": [
    "# Implementation on Databricks"
   ]
  },
  {
   "cell_type": "markdown",
   "id": "d2afb8be",
   "metadata": {},
   "source": [
    "dataPath = \"/databricks-datasets/Rdatasets/data-001/csv/ggplot2/diamonds.csv\"\n",
    "diamonds = sqlContext.read.format(\"csv\")\\\n",
    "  .option(\"header\",\"true\")\\\n",
    "  .option(\"inferSchema\", \"true\")\\\n",
    "  .load(dataPath)"
   ]
  },
  {
   "cell_type": "code",
   "execution_count": 151,
   "id": "8ac8c428",
   "metadata": {},
   "outputs": [],
   "source": [
    "from pyspark.sql import SparkSession\n",
    "from pyspark.sql.functions import to_timestamp\n",
    "from pyspark.sql.functions import col, avg, count, max, min, sum, when, datediff, to_date, hour\n",
    "\n",
    "# Initialize Spark session\n",
    "spark = SparkSession.builder.appName(\"UberDataAnalysis\").getOrCreate()\n",
    "\n",
    "# Load the CSV files into DataFrames\n",
    "location_df = spark.read.csv(\"Location.csv\", header=True, inferSchema=True)\n",
    "payment_df = spark.read.csv(\"Payment.csv\", header=True, inferSchema=True)\n",
    "payment_method_df = spark.read.csv(\"PaymentMethod.csv\", header=True, inferSchema=True)\n",
    "payment_status_df = spark.read.csv(\"PaymentStatus.csv\", header=True, inferSchema=True)\n",
    "request_df = spark.read.csv(\"Request.csv\", header=True, inferSchema=True)\n",
    "trip_df = spark.read.csv(\"Trip.csv\", header=True, inferSchema=True)\n",
    "user_df = spark.read.csv(\"User.csv\", header=True, inferSchema=True)\n",
    "vehicle_df = spark.read.csv(\"Vehicles.csv\", header=True, inferSchema=True)\n",
    "vehicle_make_df = spark.read.csv(\"VehicleMakes.csv\", header=True, inferSchema=True)"
   ]
  },
  {
   "cell_type": "code",
   "execution_count": null,
   "id": "3e0b2cec",
   "metadata": {},
   "outputs": [],
   "source": [
    "\n",
    "# List of DataFrames to process\n",
    "dataframes = [\n",
    "    location_df,\n",
    "    payment_df,\n",
    "    payment_method_df,\n",
    "    payment_status_df,\n",
    "    request_df,\n",
    "    trip_df,\n",
    "    user_df,\n",
    "    vehicle_df,\n",
    "    vehicle_make_df\n",
    "]  # Add more DataFrames as needed"
   ]
  },
  {
   "cell_type": "code",
   "execution_count": 159,
   "id": "2fbe14d7",
   "metadata": {},
   "outputs": [
    {
     "name": "stdout",
     "output_type": "stream",
     "text": [
      "+-----------+------------+-----------+\n",
      "|location_id|   longitude|   latitude|\n",
      "+-----------+------------+-----------+\n",
      "|       NULL|        NULL|       NULL|\n",
      "|      76173|-73.99945068|40.72192383|\n",
      "|     567607|-73.77745056|40.64664841|\n",
      "|     498838|-73.95517731|40.76498795|\n",
      "|     138392|-73.99216461|40.72513962|\n",
      "+-----------+------------+-----------+\n",
      "only showing top 5 rows\n",
      "\n",
      "+----------+-----------------+-----------------+\n",
      "|payment_id|payment_method_id|payment_status_id|\n",
      "+----------+-----------------+-----------------+\n",
      "|      NULL|             NULL|             NULL|\n",
      "|         6|                6|                4|\n",
      "|         6|                6|                2|\n",
      "|         3|                3|                1|\n",
      "|         6|                6|                4|\n",
      "+----------+-----------------+-----------------+\n",
      "only showing top 5 rows\n",
      "\n",
      "+-----------------+-----------+\n",
      "|payment_method_id|method_name|\n",
      "+-----------------+-----------+\n",
      "|             NULL| ----------|\n",
      "|                5| Google Pay|\n",
      "|                1|  Apple Pay|\n",
      "|                6|     PayPal|\n",
      "|                3|Credit Card|\n",
      "+-----------------+-----------+\n",
      "only showing top 5 rows\n",
      "\n",
      "+-----------------+-----------+\n",
      "|payment_status_id|status_name|\n",
      "+-----------------+-----------+\n",
      "|             NULL| ----------|\n",
      "|                2|     Failed|\n",
      "|                3|    Pending|\n",
      "|                1|  Completed|\n",
      "|                4|   Refunded|\n",
      "+-----------------+-----------+\n",
      "\n",
      "+----------+------------+------------------+-------------------+------------+-----------+\n",
      "|request_id|passenger_id|pickup_location_id|dropoff_location_id|request_time|accept_time|\n",
      "+----------+------------+------------------+-------------------+------------+-----------+\n",
      "|      NULL|        NULL|              NULL|               NULL|        NULL|       NULL|\n",
      "|    488700|      244859|             66445|             204936|        NULL|       NULL|\n",
      "|    557667|      278993|            307727|             185402|        NULL|       NULL|\n",
      "|    219890|      107381|            315889|              59602|        NULL|       NULL|\n",
      "|    268467|      133170|            313708|             234206|        NULL|       NULL|\n",
      "+----------+------------+------------------+-------------------+------------+-----------+\n",
      "only showing top 5 rows\n",
      "\n",
      "+-------+----------+---------+----------+----------+---------------+-------------+-------------+---------+----------+-------+----------+------------+---------------------+\n",
      "|trip_id|request_id|driver_id|vehicle_id|payment_id|trip_start_time|trip_end_time|trip_distance|base_fare|extra_fare|mta_tax|tip_amount|tolls_amount|improvement_surcharge|\n",
      "+-------+----------+---------+----------+----------+---------------+-------------+-------------+---------+----------+-------+----------+------------+---------------------+\n",
      "|   NULL|      NULL|     NULL|      NULL|      NULL|           NULL|         NULL|         NULL|     NULL|      NULL|   NULL|      NULL|        NULL|                 NULL|\n",
      "|      1|    369036|   968141|    363309|         6|           NULL|         NULL|         1.59|     12.0|       1.0|    0.5|      3.25|         0.0|                  0.3|\n",
      "|      2|    369031|  1024488|    336402|         6|           NULL|         NULL|          3.3|     14.5|       0.5|    0.5|       2.0|         0.0|                  0.3|\n",
      "|      3|    369030|   968141|    287846|         3|           NULL|         NULL|          1.8|      9.5|       0.5|    0.5|       0.0|         0.0|                  0.3|\n",
      "|      4|    289268|   985570|    336402|         6|           NULL|         NULL|          0.5|      3.5|       0.5|    0.5|       0.0|         0.0|                  0.3|\n",
      "+-------+----------+---------+----------+----------+---------------+-------------+-------------+---------+----------+-------+----------+------------+---------------------+\n",
      "only showing top 5 rows\n",
      "\n",
      "+-------+------------+--------------------+--------------+\n",
      "|user_id|   full_name|               email|  phone_number|\n",
      "+-------+------------+--------------------+--------------+\n",
      "|   NULL|    --------|               -----|   -----------|\n",
      "|      1|Aaron Acosta| vbishop@example.net|(677) 367-9557|\n",
      "|      2| Aaron Adams| james82@example.com|(332) 224-7965|\n",
      "|      3| Aaron Adams|nicholas92@exampl...|(351) 943-8670|\n",
      "|      4| Aaron Adams|zjohnson@example.com|(324) 384-5822|\n",
      "+-------+------------+--------------------+--------------+\n",
      "only showing top 5 rows\n",
      "\n",
      "+----------+-------+------+----+-----+-------------+\n",
      "|vehicle_id|make_id| model|year|color|license_plate|\n",
      "+----------+-------+------+----+-----+-------------+\n",
      "|      NULL|   NULL|------|NULL| ----|        -----|\n",
      "|         1| 879366|     1|NULL| 1990|        Black|\n",
      "|         2| 757688|     1|NULL| 1990|        Black|\n",
      "|         2| 873185|     1|NULL| 1990|        Black|\n",
      "|         2| 901239|     1|NULL| 1990|        Black|\n",
      "+----------+-------+------+----+-----+-------------+\n",
      "only showing top 5 rows\n",
      "\n",
      "+-------+----------+\n",
      "|make_id| make_name|\n",
      "+-------+----------+\n",
      "|   NULL|  --------|\n",
      "|      8|    Nissan|\n",
      "|      3|      Ford|\n",
      "|     10|Volkswagen|\n",
      "|      5|   Hyundai|\n",
      "+-------+----------+\n",
      "only showing top 5 rows\n",
      "\n"
     ]
    }
   ],
   "source": [
    "for df in dataframes:\n",
    "    df.show(5)"
   ]
  },
  {
   "cell_type": "markdown",
   "id": "35215d10",
   "metadata": {},
   "source": [
    "# Data Cleaning (Drop NULL Values)"
   ]
  },
  {
   "cell_type": "code",
   "execution_count": 144,
   "id": "0d5791cb",
   "metadata": {},
   "outputs": [],
   "source": [
    "user_df = user_df.drop(\"DriverMeanRating\")\n",
    "trip_df = trip_df.drop(\"driver_rating\")"
   ]
  },
  {
   "cell_type": "code",
   "execution_count": 70,
   "id": "c6d8bf34",
   "metadata": {},
   "outputs": [
    {
     "name": "stdout",
     "output_type": "stream",
     "text": [
      "+------+---------------+--------------------+--------------+\n",
      "|UserID|       FullName|               Email|   PhoneNumber|\n",
      "+------+---------------+--------------------+--------------+\n",
      "|     1|   Aaron Acosta| vbishop@example.net|(677) 367-9557|\n",
      "|     2|    Aaron Adams| james82@example.com|(332) 224-7965|\n",
      "|     3|    Aaron Adams|nicholas92@exampl...|(351) 943-8670|\n",
      "|     4|    Aaron Adams|zjohnson@example.com|(324) 384-5822|\n",
      "|     5|  Aaron Aguilar|anthony78@example...|(867) 762-3031|\n",
      "|     6|  Aaron Aguilar|wilsonruben@examp...|(376) 707-8408|\n",
      "|     7|  Aaron Aguirre|samantha45@exampl...|(147) 383-2497|\n",
      "|     8|Aaron Alexander|   phall@example.org|(761) 557-5601|\n",
      "|     9|    Aaron Allen| amber80@example.com|(613) 319-4730|\n",
      "|    10|    Aaron Allen|joseph77@example.net|(104) 903-5333|\n",
      "|    11|    Aaron Allen|nicolecasey@examp...|(921) 454-7983|\n",
      "|    12|    Aaron Allen|reyesmonica@examp...|(603) 745-9470|\n",
      "|    13|  Aaron Allison|sullivanamy@examp...|(288) 221-8294|\n",
      "|    14|  Aaron Alvarez|daniel11@example.net|(240) 297-8660|\n",
      "|    15| Aaron Anderson|hillkeith@example...|(702) 666-9955|\n",
      "|    16| Aaron Anderson|kellyclark@exampl...|(180) 641-4969|\n",
      "|    17| Aaron Anderson|russell26@example...|(730) 874-9493|\n",
      "|    18| Aaron Anderson|vshelton@example.com|(226) 998-6405|\n",
      "|    19| Aaron Anderson|  wgreen@example.org|(266) 834-3104|\n",
      "|    20|  Aaron Andrade|leemichael@exampl...|(523) 143-7943|\n",
      "+------+---------------+--------------------+--------------+\n",
      "only showing top 20 rows\n",
      "\n"
     ]
    }
   ],
   "source": [
    "user_df.show()"
   ]
  },
  {
   "cell_type": "code",
   "execution_count": 71,
   "id": "16720b6a",
   "metadata": {},
   "outputs": [
    {
     "name": "stdout",
     "output_type": "stream",
     "text": [
      "+------+---------+--------+---------+---------+--------------------+--------------------+------------+--------+---------+------+---------+-----------+--------------------+\n",
      "|TripID|RequestID|DriverID|VehicleID|PaymentID|       TripStartTime|         TripEndTime|TripDistance|BaseFare|ExtraFare|MtaTax|TipAmount|TollsAmount|ImprovementSurcharge|\n",
      "+------+---------+--------+---------+---------+--------------------+--------------------+------------+--------+---------+------+---------+-----------+--------------------+\n",
      "|     1|   369036|  968141|   363309|        6|1/15/2015 7:05:00 PM|1/15/2015 7:23:00 PM|        1.59|    12.0|      1.0|   0.5|     3.25|        0.0|                 0.3|\n",
      "|     2|   369031| 1024488|   336402|        6|1/10/2015 8:33:00 PM|1/10/2015 8:53:00 PM|         3.3|    14.5|      0.5|   0.5|      2.0|        0.0|                 0.3|\n",
      "|     3|   369030|  968141|   287846|        3|1/10/2015 8:33:00 PM|1/10/2015 8:43:00 PM|         1.8|     9.5|      0.5|   0.5|      0.0|        0.0|                 0.3|\n",
      "|     4|   289268|  985570|   336402|        6|1/10/2015 8:33:00 PM|1/10/2015 8:35:00 PM|         0.5|     3.5|      0.5|   0.5|      0.0|        0.0|                 0.3|\n",
      "|     5|   391034| 1035937|   336402|        6|1/10/2015 8:33:00 PM|1/10/2015 8:52:00 PM|         3.0|    15.0|      0.5|   0.5|      0.0|        0.0|                 0.3|\n",
      "|     6|   391035|  979590|   363309|        3|1/10/2015 8:33:00 PM|1/10/2015 8:53:00 PM|         9.0|    27.0|      0.5|   0.5|      6.7|       5.33|                 0.3|\n",
      "|     7|   369032|  968141|   216258|        4|1/10/2015 8:33:00 PM|1/10/2015 8:58:00 PM|         2.2|    14.0|      0.5|   0.5|      0.0|        0.0|                 0.3|\n",
      "|     8|   369029|  955652|    20459|        5|1/10/2015 8:33:00 PM|1/10/2015 8:42:00 PM|         0.8|     7.0|      0.5|   0.5|     1.66|        0.0|                 0.3|\n",
      "|     9|   369033|  955652|    20459|        6|1/10/2015 8:33:00 PM|1/10/2015 9:11:00 PM|        18.2|    52.0|      0.0|   0.5|      0.0|       5.33|                 0.3|\n",
      "|    10|   391033|  976925|   287518|        6|1/10/2015 8:33:00 PM|1/10/2015 8:40:00 PM|         0.9|     6.5|      0.5|   0.5|     1.55|        0.0|                 0.3|\n",
      "+------+---------+--------+---------+---------+--------------------+--------------------+------------+--------+---------+------+---------+-----------+--------------------+\n",
      "only showing top 10 rows\n",
      "\n"
     ]
    }
   ],
   "source": [
    "trip_df.show(10)"
   ]
  },
  {
   "cell_type": "markdown",
   "id": "5d054fc8",
   "metadata": {},
   "source": [
    "# Handling Missing Vlaues"
   ]
  },
  {
   "cell_type": "code",
   "execution_count": 32,
   "id": "e1b3302f",
   "metadata": {},
   "outputs": [],
   "source": [
    "trip_df = trip_df.na.fill({\"BaseFare\": 0, \"ExtraFare\": 0, \"MtaTax\": 0, \"TipAmount\": 0, \"TollsAmount\": 0, \"ImprovementSurcharge\": 0})"
   ]
  },
  {
   "cell_type": "code",
   "execution_count": 44,
   "id": "2dfd1610",
   "metadata": {},
   "outputs": [
    {
     "name": "stdout",
     "output_type": "stream",
     "text": [
      "+------+---------+--------+---------+---------+--------------------+--------------------+------------+--------+---------+------+---------+-----------+--------------------+\n",
      "|TripID|RequestID|DriverID|VehicleID|PaymentID|       TripStartTime|         TripEndTime|TripDistance|BaseFare|ExtraFare|MtaTax|TipAmount|TollsAmount|ImprovementSurcharge|\n",
      "+------+---------+--------+---------+---------+--------------------+--------------------+------------+--------+---------+------+---------+-----------+--------------------+\n",
      "|     1|   369036|  968141|   363309|        6|1/15/2015 7:05:00 PM|1/15/2015 7:23:00 PM|        1.59|    12.0|      1.0|   0.5|     3.25|        0.0|                 0.3|\n",
      "|     2|   369031| 1024488|   336402|        6|1/10/2015 8:33:00 PM|1/10/2015 8:53:00 PM|         3.3|    14.5|      0.5|   0.5|      2.0|        0.0|                 0.3|\n",
      "|     3|   369030|  968141|   287846|        3|1/10/2015 8:33:00 PM|1/10/2015 8:43:00 PM|         1.8|     9.5|      0.5|   0.5|      0.0|        0.0|                 0.3|\n",
      "|     4|   289268|  985570|   336402|        6|1/10/2015 8:33:00 PM|1/10/2015 8:35:00 PM|         0.5|     3.5|      0.5|   0.5|      0.0|        0.0|                 0.3|\n",
      "|     5|   391034| 1035937|   336402|        6|1/10/2015 8:33:00 PM|1/10/2015 8:52:00 PM|         3.0|    15.0|      0.5|   0.5|      0.0|        0.0|                 0.3|\n",
      "+------+---------+--------+---------+---------+--------------------+--------------------+------------+--------+---------+------+---------+-----------+--------------------+\n",
      "only showing top 5 rows\n",
      "\n"
     ]
    }
   ],
   "source": [
    "trip_df.show(5)"
   ]
  },
  {
   "cell_type": "code",
   "execution_count": 137,
   "id": "e4ebe628",
   "metadata": {},
   "outputs": [
    {
     "name": "stdout",
     "output_type": "stream",
     "text": [
      "root\n",
      " |-- TripID: integer (nullable = true)\n",
      " |-- RequestID: integer (nullable = true)\n",
      " |-- DriverID: integer (nullable = true)\n",
      " |-- VehicleID: integer (nullable = true)\n",
      " |-- PaymentID: integer (nullable = true)\n",
      " |-- TripStartTime: string (nullable = true)\n",
      " |-- TripEndTime: string (nullable = true)\n",
      " |-- TripDistance: double (nullable = true)\n",
      " |-- BaseFare: double (nullable = true)\n",
      " |-- ExtraFare: double (nullable = true)\n",
      " |-- MtaTax: double (nullable = true)\n",
      " |-- TipAmount: double (nullable = true)\n",
      " |-- TollsAmount: double (nullable = true)\n",
      " |-- ImprovementSurcharge: double (nullable = true)\n",
      "\n"
     ]
    }
   ],
   "source": [
    "trip_df.printSchema()"
   ]
  },
  {
   "cell_type": "markdown",
   "id": "a031a88b",
   "metadata": {},
   "source": [
    "# Converting Date columns"
   ]
  },
  {
   "cell_type": "markdown",
   "id": "47873ec5",
   "metadata": {},
   "source": [
    "#### modify this cell for needed dataframes, columns  "
   ]
  },
  {
   "cell_type": "code",
   "execution_count": 145,
   "id": "e6e71b34",
   "metadata": {},
   "outputs": [],
   "source": [
    "\n",
    "# Define the mapping of DataFrames to their respective columns for timestamp conversion\n",
    "dataframes_with_columns = {\n",
    "    \"trip_df\": (trip_df, [\"TripStartTime\", \"TripEndTime\"]),\n",
    "    \"request_df\": (request_df, [\"RequestTime\", \"AcceptTime\"]),\n",
    "    # Add more DataFrames and their columns as needed\n",
    "}\n"
   ]
  },
  {
   "cell_type": "markdown",
   "id": "d034a1dd",
   "metadata": {},
   "source": [
    "##### converting to date and verifying the result"
   ]
  },
  {
   "cell_type": "code",
   "execution_count": 146,
   "id": "d2fb9784",
   "metadata": {},
   "outputs": [
    {
     "name": "stdout",
     "output_type": "stream",
     "text": [
      "DataFrame: trip_df\n",
      "+------+---------+--------+---------+---------+-------------+-----------+------------+--------+---------+------+---------+-----------+--------------------+\n",
      "|TripID|RequestID|DriverID|VehicleID|PaymentID|TripStartTime|TripEndTime|TripDistance|BaseFare|ExtraFare|MtaTax|TipAmount|TollsAmount|ImprovementSurcharge|\n",
      "+------+---------+--------+---------+---------+-------------+-----------+------------+--------+---------+------+---------+-----------+--------------------+\n",
      "|     1|   369036|  968141|   363309|        6|   2015-01-15| 2015-01-15|        1.59|    12.0|      1.0|   0.5|     3.25|        0.0|                 0.3|\n",
      "|     2|   369031| 1024488|   336402|        6|   2015-01-10| 2015-01-10|         3.3|    14.5|      0.5|   0.5|      2.0|        0.0|                 0.3|\n",
      "|     3|   369030|  968141|   287846|        3|   2015-01-10| 2015-01-10|         1.8|     9.5|      0.5|   0.5|      0.0|        0.0|                 0.3|\n",
      "|     4|   289268|  985570|   336402|        6|   2015-01-10| 2015-01-10|         0.5|     3.5|      0.5|   0.5|      0.0|        0.0|                 0.3|\n",
      "|     5|   391034| 1035937|   336402|        6|   2015-01-10| 2015-01-10|         3.0|    15.0|      0.5|   0.5|      0.0|        0.0|                 0.3|\n",
      "+------+---------+--------+---------+---------+-------------+-----------+------------+--------+---------+------+---------+-----------+--------------------+\n",
      "only showing top 5 rows\n",
      "\n",
      "root\n",
      " |-- TripID: integer (nullable = true)\n",
      " |-- RequestID: integer (nullable = true)\n",
      " |-- DriverID: integer (nullable = true)\n",
      " |-- VehicleID: integer (nullable = true)\n",
      " |-- PaymentID: integer (nullable = true)\n",
      " |-- TripStartTime: date (nullable = true)\n",
      " |-- TripEndTime: date (nullable = true)\n",
      " |-- TripDistance: double (nullable = true)\n",
      " |-- BaseFare: double (nullable = true)\n",
      " |-- ExtraFare: double (nullable = true)\n",
      " |-- MtaTax: double (nullable = true)\n",
      " |-- TipAmount: double (nullable = true)\n",
      " |-- TollsAmount: double (nullable = true)\n",
      " |-- ImprovementSurcharge: double (nullable = true)\n",
      "\n",
      "DataFrame: request_df\n",
      "+---------+-----------+----------------+-----------------+-----------+----------+\n",
      "|RequestID|PassengerID|PickupLocationID|DropoffLocationID|RequestTime|AcceptTime|\n",
      "+---------+-----------+----------------+-----------------+-----------+----------+\n",
      "|    49931|      25047|          414675|           300838| 2015-01-07|2015-01-07|\n",
      "|    78920|      39119|          213486|           528405| 2015-01-12|2015-01-12|\n",
      "|    67630|      33474|          229932|           251111| 2015-01-13|2015-01-13|\n",
      "|    99696|      48616|           37162|            48307| 2015-01-23|2015-01-23|\n",
      "|   373166|     185748|          208583|           342678| 2015-01-25|2015-01-25|\n",
      "+---------+-----------+----------------+-----------------+-----------+----------+\n",
      "only showing top 5 rows\n",
      "\n",
      "root\n",
      " |-- RequestID: integer (nullable = true)\n",
      " |-- PassengerID: integer (nullable = true)\n",
      " |-- PickupLocationID: integer (nullable = true)\n",
      " |-- DropoffLocationID: integer (nullable = true)\n",
      " |-- RequestTime: date (nullable = true)\n",
      " |-- AcceptTime: date (nullable = true)\n",
      "\n"
     ]
    }
   ],
   "source": [
    "from pyspark.sql.functions import to_timestamp, col\n",
    "\n",
    "# Define the mapping of DataFrames to their respective columns for timestamp conversion\n",
    "dataframes_with_columns = {\n",
    "    \"trip_df\": (trip_df, [\"TripStartTime\", \"TripEndTime\"]),\n",
    "    \"request_df\": (request_df, [\"RequestTime\", \"AcceptTime\"]),\n",
    "    # Add more DataFrames and their columns as needed\n",
    "}\n",
    "\n",
    "# Function to convert timestamp columns\n",
    "def convert_timestamp_columns(df, columns, date_format=\"M/d/yyyy h:mm:ss a\"):\n",
    "    for col_name in columns:\n",
    "        df = df.withColumn(col_name, to_timestamp(col(col_name), date_format).cast(\"date\"))\n",
    "    return df\n",
    "\n",
    "# Loop through each DataFrame, apply the conversion, and replace the old DataFrame directly\n",
    "for table_name, (df, columns) in dataframes_with_columns.items():\n",
    "    # Convert timestamp columns\n",
    "    updated_df = convert_timestamp_columns(df, columns)\n",
    "    \n",
    "    # Replace the old DataFrame directly by updating the global variables\n",
    "    globals()[table_name] = updated_df\n",
    "    \n",
    "    # Automatically show the updated DataFrame and print the schema\n",
    "    print(f\"DataFrame: {table_name}\")\n",
    "    updated_df.show(5)\n",
    "    updated_df.printSchema()\n"
   ]
  },
  {
   "cell_type": "code",
   "execution_count": 147,
   "id": "8702b7cd",
   "metadata": {},
   "outputs": [
    {
     "name": "stdout",
     "output_type": "stream",
     "text": [
      "root\n",
      " |-- TripID: integer (nullable = true)\n",
      " |-- RequestID: integer (nullable = true)\n",
      " |-- DriverID: integer (nullable = true)\n",
      " |-- VehicleID: integer (nullable = true)\n",
      " |-- PaymentID: integer (nullable = true)\n",
      " |-- TripStartTime: date (nullable = true)\n",
      " |-- TripEndTime: date (nullable = true)\n",
      " |-- TripDistance: double (nullable = true)\n",
      " |-- BaseFare: double (nullable = true)\n",
      " |-- ExtraFare: double (nullable = true)\n",
      " |-- MtaTax: double (nullable = true)\n",
      " |-- TipAmount: double (nullable = true)\n",
      " |-- TollsAmount: double (nullable = true)\n",
      " |-- ImprovementSurcharge: double (nullable = true)\n",
      "\n"
     ]
    }
   ],
   "source": [
    "trip_df.printSchema()"
   ]
  },
  {
   "cell_type": "markdown",
   "id": "2fc1dd82",
   "metadata": {},
   "source": [
    "# Renaming all columns in each dataframe to snake_case"
   ]
  },
  {
   "cell_type": "code",
   "execution_count": 150,
   "id": "f07ae45a",
   "metadata": {},
   "outputs": [
    {
     "name": "stdout",
     "output_type": "stream",
     "text": [
      "Schema for DataFrame 0:\n",
      "root\n",
      " |-- location_id: integer (nullable = true)\n",
      " |-- longitude: double (nullable = true)\n",
      " |-- latitude: double (nullable = true)\n",
      "\n",
      "Schema for DataFrame 1:\n",
      "root\n",
      " |-- payment_id: integer (nullable = true)\n",
      " |-- payment_method_id: integer (nullable = true)\n",
      " |-- payment_status_id: integer (nullable = true)\n",
      "\n",
      "Schema for DataFrame 2:\n",
      "root\n",
      " |-- payment_method_id: integer (nullable = true)\n",
      " |-- method_name: string (nullable = true)\n",
      "\n",
      "Schema for DataFrame 3:\n",
      "root\n",
      " |-- payment_status_id: integer (nullable = true)\n",
      " |-- status_name: string (nullable = true)\n",
      "\n",
      "Schema for DataFrame 4:\n",
      "root\n",
      " |-- request_id: integer (nullable = true)\n",
      " |-- passenger_id: integer (nullable = true)\n",
      " |-- pickup_location_id: integer (nullable = true)\n",
      " |-- dropoff_location_id: integer (nullable = true)\n",
      " |-- request_time: date (nullable = true)\n",
      " |-- accept_time: date (nullable = true)\n",
      "\n",
      "Schema for DataFrame 5:\n",
      "root\n",
      " |-- trip_id: integer (nullable = true)\n",
      " |-- request_id: integer (nullable = true)\n",
      " |-- driver_id: integer (nullable = true)\n",
      " |-- vehicle_id: integer (nullable = true)\n",
      " |-- payment_id: integer (nullable = true)\n",
      " |-- trip_start_time: date (nullable = true)\n",
      " |-- trip_end_time: date (nullable = true)\n",
      " |-- trip_distance: double (nullable = true)\n",
      " |-- base_fare: double (nullable = true)\n",
      " |-- extra_fare: double (nullable = true)\n",
      " |-- mta_tax: double (nullable = true)\n",
      " |-- tip_amount: double (nullable = true)\n",
      " |-- tolls_amount: double (nullable = true)\n",
      " |-- improvement_surcharge: double (nullable = true)\n",
      "\n",
      "Schema for DataFrame 6:\n",
      "root\n",
      " |-- user_id: integer (nullable = true)\n",
      " |-- full_name: string (nullable = true)\n",
      " |-- email: string (nullable = true)\n",
      " |-- phone_number: string (nullable = true)\n",
      "\n",
      "Schema for DataFrame 7:\n",
      "root\n",
      " |-- vehicle_id: integer (nullable = true)\n",
      " |-- make_id: integer (nullable = true)\n",
      " |-- model: string (nullable = true)\n",
      " |-- year: integer (nullable = true)\n",
      " |-- color: string (nullable = true)\n",
      " |-- license_plate: string (nullable = true)\n",
      "\n",
      "Schema for DataFrame 8:\n",
      "root\n",
      " |-- make_id: integer (nullable = true)\n",
      " |-- make_name: string (nullable = true)\n",
      "\n"
     ]
    }
   ],
   "source": [
    "import re\n",
    "from pyspark.sql import DataFrame\n",
    "\n",
    "# Function to convert a string to snake_case\n",
    "def to_snake_case(name: str) -> str:\n",
    "    # Replace spaces and hyphens with underscores\n",
    "    name = re.sub(r'[\\s-]+', '_', name)\n",
    "\n",
    "    # Insert underscores before any uppercase letter that follows a lowercase letter\n",
    "    name = re.sub(r'([a-z])([A-Z])', r'\\1_\\2', name)\n",
    "\n",
    "    # Insert underscores between groups of uppercase letters and lowercase letters\n",
    "    name = re.sub(r'([A-Z]+)([A-Z][a-z])', r'\\1_\\2', name)  # e.g., ABc -> AB_c\n",
    "    \n",
    "    # Handle multiple uppercase letters\n",
    "    name = re.sub(r'([A-Z]+)([A-Z][a-z])', r'\\1_\\2', name)  # Ensure a transition from uppercase to lowercase has an underscore\n",
    "\n",
    "    # Avoid double underscores by replacing multiple underscores with a single underscore\n",
    "    name = re.sub(r'__+', '_', name)\n",
    "\n",
    "    # Remove leading underscores if present and convert to lowercase\n",
    "    name = name.lstrip('_').lower()\n",
    "\n",
    "    return name\n",
    "\n",
    "# Function to rename all columns in a DataFrame to snake_case\n",
    "def convert_columns_to_snake_case(df: DataFrame) -> DataFrame:\n",
    "    # Get the existing column names\n",
    "    original_columns = df.columns\n",
    "    # Generate new column names in snake_case\n",
    "    new_columns = [to_snake_case(col) for col in original_columns]\n",
    "\n",
    "    # Rename the columns in the DataFrame\n",
    "    for original_col, new_col in zip(original_columns, new_columns):\n",
    "        df = df.withColumnRenamed(original_col, new_col)\n",
    "    return df\n",
    "\n",
    "# Loop through the list of DataFrames and apply the column name conversion\n",
    "for i in range(len(dataframes)):\n",
    "    dataframes[i] = convert_columns_to_snake_case(dataframes[i])\n",
    "\n",
    "# Check results by printing the schema of all updated DataFrames\n",
    "for i, df in enumerate(dataframes):\n",
    "    print(f\"Schema for DataFrame {i}:\")\n",
    "    df.printSchema()  # Display the schema to verify changes\n"
   ]
  },
  {
   "cell_type": "code",
   "execution_count": 84,
   "id": "a2854c1f",
   "metadata": {},
   "outputs": [
    {
     "name": "stdout",
     "output_type": "stream",
     "text": [
      "+-------+------------------+------------------+\n",
      "|summary|      TripDistance|          BaseFare|\n",
      "+-------+------------------+------------------+\n",
      "|  count|            584875|            584875|\n",
      "|   mean|2.9828643214362116| 11.86882723658903|\n",
      "| stddev|126.60890739487783|10.125811442812736|\n",
      "|    min|               0.0|            -138.9|\n",
      "|    max|           92000.9|             900.0|\n",
      "+-------+------------------+------------------+\n",
      "\n"
     ]
    }
   ],
   "source": [
    "trip_df.select(\"TripDistance\", \"BaseFare\").describe().show()\n"
   ]
  },
  {
   "cell_type": "markdown",
   "id": "10228835",
   "metadata": {},
   "source": [
    "# How long do trips take on average, and what is the average distance?"
   ]
  },
  {
   "cell_type": "markdown",
   "id": "82d7862f",
   "metadata": {},
   "source": [
    "# What are the most common pickup and dropoff locations?"
   ]
  },
  {
   "cell_type": "code",
   "execution_count": 10,
   "id": "40a93860",
   "metadata": {},
   "outputs": [
    {
     "name": "stdout",
     "output_type": "stream",
     "text": [
      "+------------+-----------+------------+\n",
      "|   Longitude|   Latitude|pickup_count|\n",
      "+------------+-----------+------------+\n",
      "|-73.78796387|40.64152527|       11157|\n",
      "|-73.95028687|40.79550171|          43|\n",
      "|-74.18402863|40.68948364|          29|\n",
      "|-74.00323486|40.73168182|          15|\n",
      "|-73.93746185|40.74890137|          11|\n",
      "|-73.98692322|40.72085953|          10|\n",
      "|-73.97848511|40.76370239|          10|\n",
      "|-73.98863983|40.71881866|           9|\n",
      "|-74.00162506|40.74097824|           7|\n",
      "| -73.9397049|40.79433823|           7|\n",
      "|-73.99417877|40.75109863|           7|\n",
      "|-73.94628906|40.77302933|           7|\n",
      "|-73.99411011|40.75112152|           7|\n",
      "|-73.99414063|40.75106812|           7|\n",
      "|  -73.994133|40.75118637|           6|\n",
      "|-73.87104034|40.77378082|           6|\n",
      "|-73.87440491|40.77396011|           6|\n",
      "|-73.92472076|40.76171875|           6|\n",
      "| -73.7883606|40.64736938|           6|\n",
      "|-73.94959259|40.77273178|           6|\n",
      "+------------+-----------+------------+\n",
      "only showing top 20 rows\n",
      "\n",
      "+------------+-----------+-------------+\n",
      "|   Longitude|   Latitude|dropoff_count|\n",
      "+------------+-----------+-------------+\n",
      "|-73.77718353|40.64489746|        10815|\n",
      "|-73.95304108|40.78292847|           43|\n",
      "|-74.09727478|40.67108536|           29|\n",
      "|-74.00291443|40.74389648|           15|\n",
      "|-73.89987946|40.74604034|           11|\n",
      "| -73.9801712|40.74279785|           10|\n",
      "|-73.98789978| 40.7311058|           10|\n",
      "|-73.98937225|40.75694275|            9|\n",
      "|-73.99142456|40.75011826|            8|\n",
      "|-74.00147247|40.73601151|            7|\n",
      "|-73.94871521|40.80911636|            7|\n",
      "|-73.92666626|40.70544052|            7|\n",
      "|-73.87093353|40.77378082|            6|\n",
      "|-73.95700073|40.78023148|            6|\n",
      "|-73.87110901|40.77384186|            6|\n",
      "|-73.87454224|40.77410889|            6|\n",
      "|-73.94160461|40.82333374|            5|\n",
      "|-73.87457275|40.77412033|            5|\n",
      "|-73.87308502|40.77411652|            5|\n",
      "|-73.99156189|40.74998856|            5|\n",
      "+------------+-----------+-------------+\n",
      "only showing top 20 rows\n",
      "\n"
     ]
    }
   ],
   "source": [
    "# Join request_df with location_df for both PickupLocationID and DropoffLocationID\n",
    "pickup_location_df = request_df.join(location_df, request_df.PickupLocationID == location_df.LocationID)\n",
    "dropoff_location_df = request_df.join(location_df, request_df.DropoffLocationID == location_df.LocationID)\n",
    "\n",
    "# Find the most common pickup and dropoff locations\n",
    "pickup_location_df.groupBy(\"Longitude\", \"Latitude\").agg(count(\"*\").alias(\"pickup_count\")).orderBy(col(\"pickup_count\").desc()).show()\n",
    "dropoff_location_df.groupBy(\"Longitude\", \"Latitude\").agg(count(\"*\").alias(\"dropoff_count\")).orderBy(col(\"dropoff_count\").desc()).show()"
   ]
  },
  {
   "cell_type": "markdown",
   "id": "6d944359",
   "metadata": {},
   "source": [
    "# How many trips does each passenger take, and what is their average trip distance?"
   ]
  },
  {
   "cell_type": "code",
   "execution_count": 31,
   "id": "4c78e764",
   "metadata": {},
   "outputs": [
    {
     "name": "stdout",
     "output_type": "stream",
     "text": [
      "+-----------+----------+------------------+\n",
      "|PassengerID|trip_count| avg_trip_distance|\n",
      "+-----------+----------+------------------+\n",
      "|     195168|        23|2.7113043478260868|\n",
      "|     183719|        19|2.6389473684210527|\n",
      "|     208524|        17|2.9947058823529416|\n",
      "|       6076|        16|          2.788125|\n",
      "|     283761|        16|           2.47875|\n",
      "|     259447|        16|1.9562499999999998|\n",
      "|     207380|        16|          1.971875|\n",
      "|      28440|        16|            2.9225|\n",
      "|     194260|        15|             2.168|\n",
      "|     208173|        15|1.6353333333333337|\n",
      "|      56911|        15| 4.360666666666668|\n",
      "|      81120|        15|2.9406666666666665|\n",
      "|      86477|        15|3.3400000000000003|\n",
      "|      77372|        15| 4.496666666666668|\n",
      "|     125266|        15|2.6446666666666667|\n",
      "|     219865|        15| 3.131333333333333|\n",
      "|      32041|        15|3.3273333333333337|\n",
      "|     258125|        15|2.0073333333333334|\n",
      "|      51695|        15|1.8993333333333335|\n",
      "|     269183|        15|2.1279999999999997|\n",
      "+-----------+----------+------------------+\n",
      "only showing top 20 rows\n",
      "\n"
     ]
    }
   ],
   "source": [
    "# Join trip_df with request_df to get passenger information, then group by passenger\n",
    "trip_passenger_df = trip_df.join(request_df, trip_df.RequestID == request_df.RequestID)\n",
    "\n",
    "# Group by PassengerID to calculate the number of trips and average distance\n",
    "trip_passenger_df.groupBy(\"PassengerID\").agg(\n",
    "    count(\"*\").alias(\"trip_count\"),\n",
    "    avg(\"TripDistance\").alias(\"avg_trip_distance\")\n",
    ").orderBy(col(\"trip_count\").desc()).show()\n"
   ]
  },
  {
   "cell_type": "markdown",
   "id": "5fb63779",
   "metadata": {},
   "source": [
    "# What is the average fare and tip per trip by payment method?"
   ]
  },
  {
   "cell_type": "markdown",
   "id": "c8bdbfa6",
   "metadata": {},
   "source": [
    "# What percentage of trips have different payment statuses?"
   ]
  },
  {
   "cell_type": "markdown",
   "id": "ffe3a262",
   "metadata": {},
   "source": [
    "# What are the most common vehicle makes and models used in trips?"
   ]
  },
  {
   "cell_type": "code",
   "execution_count": 18,
   "id": "c7b300e3",
   "metadata": {},
   "outputs": [
    {
     "name": "stdout",
     "output_type": "stream",
     "text": [
      "+-------------+------+-----+\n",
      "|     MakeName| Model|count|\n",
      "+-------------+------+-----+\n",
      "|        Honda|Accord| 7587|\n",
      "|      Hyundai|Tucson| 7578|\n",
      "|   Volkswagen|Beetle| 7568|\n",
      "|          Kia| Forte| 7557|\n",
      "|       Nissan|Sentra| 7540|\n",
      "|       Nissan|Altima| 7534|\n",
      "|Mercedes-Benz|   GLC| 7534|\n",
      "|       Toyota|  RAV4| 7530|\n",
      "|         Ford|Escape| 7527|\n",
      "|       Nissan|Maxima| 7527|\n",
      "+-------------+------+-----+\n",
      "only showing top 10 rows\n",
      "\n"
     ]
    }
   ],
   "source": [
    "vehicle_full_df = vehicle_df.join(vehicle_make_df, on='MakeID')\n",
    "\n",
    "# Group by MakeName and Model, and count the occurrences\n",
    "vehicle_full_df.groupBy('MakeName', 'Model').count().orderBy('count', ascending=False).show(10)"
   ]
  },
  {
   "cell_type": "code",
   "execution_count": 26,
   "id": "a61cb375",
   "metadata": {},
   "outputs": [
    {
     "name": "stdout",
     "output_type": "stream",
     "text": [
      "+------+---------+--------+---------+---------+--------------------+--------------------+------------+--------+---------+------+---------+-----------+--------------------+\n",
      "|TripID|RequestID|DriverID|VehicleID|PaymentID|       TripStartTime|         TripEndTime|TripDistance|BaseFare|ExtraFare|MtaTax|TipAmount|TollsAmount|ImprovementSurcharge|\n",
      "+------+---------+--------+---------+---------+--------------------+--------------------+------------+--------+---------+------+---------+-----------+--------------------+\n",
      "|     1|   369036|  968141|   363309|        6|1/15/2015 7:05:00 PM|1/15/2015 7:23:00 PM|        1.59|    12.0|      1.0|   0.5|     3.25|        0.0|                 0.3|\n",
      "|     2|   369031| 1024488|   336402|        6|1/10/2015 8:33:00 PM|1/10/2015 8:53:00 PM|         3.3|    14.5|      0.5|   0.5|      2.0|        0.0|                 0.3|\n",
      "|     3|   369030|  968141|   287846|        3|1/10/2015 8:33:00 PM|1/10/2015 8:43:00 PM|         1.8|     9.5|      0.5|   0.5|      0.0|        0.0|                 0.3|\n",
      "|     4|   289268|  985570|   336402|        6|1/10/2015 8:33:00 PM|1/10/2015 8:35:00 PM|         0.5|     3.5|      0.5|   0.5|      0.0|        0.0|                 0.3|\n",
      "|     5|   391034| 1035937|   336402|        6|1/10/2015 8:33:00 PM|1/10/2015 8:52:00 PM|         3.0|    15.0|      0.5|   0.5|      0.0|        0.0|                 0.3|\n",
      "+------+---------+--------+---------+---------+--------------------+--------------------+------------+--------+---------+------+---------+-----------+--------------------+\n",
      "only showing top 5 rows\n",
      "\n"
     ]
    }
   ],
   "source": [
    "trip_df.show(5)"
   ]
  },
  {
   "cell_type": "code",
   "execution_count": null,
   "id": "48838435",
   "metadata": {},
   "outputs": [],
   "source": []
  }
 ],
 "metadata": {
  "kernelspec": {
   "display_name": "Python 3",
   "language": "python",
   "name": "python3"
  },
  "language_info": {
   "codemirror_mode": {
    "name": "ipython",
    "version": 3
   },
   "file_extension": ".py",
   "mimetype": "text/x-python",
   "name": "python",
   "nbconvert_exporter": "python",
   "pygments_lexer": "ipython3",
   "version": "3.12.6"
  }
 },
 "nbformat": 4,
 "nbformat_minor": 5
}
